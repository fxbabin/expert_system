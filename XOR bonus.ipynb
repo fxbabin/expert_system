{
 "cells": [
  {
   "cell_type": "code",
   "execution_count": 18,
   "metadata": {},
   "outputs": [
    {
     "name": "stdout",
     "output_type": "stream",
     "text": [
      "The autoreload extension is already loaded. To reload it, use:\n",
      "  %reload_ext autoreload\n"
     ]
    }
   ],
   "source": [
    "%load_ext autoreload\n",
    "%autoreload 2"
   ]
  },
  {
   "cell_type": "code",
   "execution_count": 1,
   "metadata": {},
   "outputs": [],
   "source": [
    "from xs_lexer import Lexer\n",
    "from xs_parser import Parser\n",
    "# from xs_node import Node_letter, Node_condition"
   ]
  },
  {
   "cell_type": "code",
   "execution_count": 2,
   "metadata": {},
   "outputs": [],
   "source": [
    "class Node_letter(object):\n",
    "\n",
    "    def __init__(self, token, name):\n",
    "        self.token = token\n",
    "        self.name = name\n",
    "        self.state = 0\n",
    "        self.neg = 0\n",
    "        self.childs_pos = []\n",
    "        self.childs_neg = []\n",
    "        self.visited = 0\n",
    "        self.or_dic = {}\n",
    "        self.xor_dic = {}\n",
    "        self.ind = 0\n",
    "\n",
    "    def __str__(self):\n",
    "        return \"Node_letter({})\".format(self.token)\n",
    "\n",
    "\n",
    "class Node_condition(object):\n",
    "\n",
    "    def __init__(self, left, cond, right):\n",
    "        self.left = left\n",
    "        self.token = self.cond = cond\n",
    "        self.right = right\n",
    "        self.neg = 0\n",
    "        self.visited = 0\n",
    "        self.or_dic = {}\n",
    "        self.xor_dic = {}\n",
    "        self.ind = 0\n",
    "\n",
    "    def __str__(self):\n",
    "        return \"Node_condition({}\".format(self.token)"
   ]
  },
  {
   "cell_type": "code",
   "execution_count": 191,
   "metadata": {},
   "outputs": [],
   "source": [
    "class Interpreter(object):\n",
    "\n",
    "    def __init__(self):\n",
    "        pass\n",
    "\n",
    "    def interpret(self, node, graph):\n",
    "        if node:\n",
    "            if type(node).__name__ == \"Node_condition\":\n",
    "                return abs(self.apply_logical(node, node.left,\n",
    "                           node.right, graph) - node.neg)\n",
    "            node.visited = 1\n",
    "            if type(node).__name__ == \"Node_letter\":\n",
    "                implies_node = graph.find_letter_in_implies(node.name)\n",
    "                if implies_node:\n",
    "                    for child in implies_node.childs_pos:\n",
    "                        if child.visited == 0:\n",
    "                            if self.interpret(child, graph) == 1:\n",
    "                                if child in implies_node.xor_dic.keys():\n",
    "                                    self.get_ind_fact(graph, implies_node, child)\n",
    "                                node.state = 1\n",
    "                    for child in implies_node.childs_neg:\n",
    "                        if child.visited == 0:\n",
    "                            if self.interpret(child, graph) == 1:\n",
    "                                node.state = 0\n",
    "                node.visited = 0\n",
    "                return abs(node.state - node.neg)\n",
    "\n",
    "    def get_ind_fact(self, graph, implies_node, ind_rule):\n",
    "        # 1 : copy du graph\n",
    "        # 2 : reset du graph \n",
    "        # 3 : changement des regles\n",
    "        # 4 : test avec une 3eme fonction similaire a interpret\n",
    "        # refaire 2-3-4 avec l'autre cas\n",
    "        \n",
    "        #1\n",
    "        copy_graph_1 = copy.deepcopy(graph)\n",
    "        copy_graph_2 = copy.deepcopy(graph)\n",
    "        \n",
    "        # CASE 1\n",
    "        # get copy_node, equivalent of implies_node in copy_graph\n",
    "        copy_node = copy_graph_1.find_letter_in_implies(implies_node.name)\n",
    "        \n",
    "        # get copy_rule, equivalent of implies_node in copy_graph\n",
    "        copy_rule = self.get_copy_rule(implies_node, ind_rule, copy_node, copy_graph_1)\n",
    "        \n",
    "        \n",
    "        # del rule in mirror_node_pos, then add it in mirror_node_neg\n",
    "#         print(copy_node.childs_pos[0])\n",
    "        del copy_node.xor_dic[copy_rule].childs_pos[0]\n",
    "        copy_node.xor_dic[copy_rule].childs_neg.append(copy_rule)\n",
    "\n",
    "        # del copy_rule in xor_dic in mirror_node, then in node\n",
    "#         print(copy_node.xor_dic[copy_rule].xor_dic[copy_rule])\n",
    "        del copy_node.xor_dic[copy_rule].xor_dic[copy_rule]\n",
    "        del copy_node.xor_dic[copy_rule]\n",
    "        # test\n",
    "        print(self.interpret_2(copy_node, copy_graph_1))\n",
    "\n",
    "       \n",
    "\n",
    "    def interpret_2(self, node, graph):\n",
    "        if node:\n",
    "            if type(node).__name__ == \"Node_condition\":\n",
    "                return abs(self.apply_logical(node, node.left,\n",
    "                           node.right, graph) - node.neg)\n",
    "            node.visited = 1\n",
    "            if type(node).__name__ == \"Node_letter\":\n",
    "                implies_node = graph.find_letter_in_implies(node.name)\n",
    "                if implies_node:\n",
    "                    for child in implies_node.childs_pos:\n",
    "                        if child.visited == 0:\n",
    "                            if self.interpret(child, graph) == 1:\n",
    "                                if child in implies_node.xor_dic.keys():\n",
    "                                    self.get_ind_fact(graph, implies_node, child)\n",
    "                                node.state = 1\n",
    "                    for child in implies_node.childs_neg:\n",
    "                        if child.visited == 0:\n",
    "                            if self.interpret(child, graph) == 1:\n",
    "                                node.state = 0\n",
    "                node.visited = 0\n",
    "                return abs(node.state - node.neg)\n",
    "            \n",
    "    def get_copy_rule(self, true_node, true_rule, copy_node, copy_graph):\n",
    "         # to do\n",
    "        return copy_node.childs_pos[0]\n",
    "        \n",
    "        \n",
    "    def reset_visit(self, node):\n",
    "        if node:\n",
    "            node.visited = 0\n",
    "            if type(node).__name__ == \"Node_letter\":\n",
    "                for child in (node.childs_pos + node.childs_neg):\n",
    "                    self.reset_visit(child)\n",
    "            if type(node).__name__ == \"Node_condition\":\n",
    "                self.reset_visit(node.left)\n",
    "                self.reset_visit(node.right)\n",
    "            \n",
    "    def apply_logical(self, node, left, right, graph):\n",
    "        if node.token.type == \"AND\":\n",
    "            return self.interpret(left, graph) & self.interpret(right, graph)\n",
    "        if node.token.type == \"OR\":\n",
    "            return self.interpret(left, graph) | self.interpret(right, graph)\n",
    "        if node.token.type == \"XOR\":\n",
    "            return self.interpret(left, graph) ^ self.interpret(right, graph)"
   ]
  },
  {
   "cell_type": "code",
   "execution_count": 192,
   "metadata": {},
   "outputs": [
    {
     "name": "stdout",
     "output_type": "stream",
     "text": [
      "1\n",
      "D is True\n"
     ]
    }
   ],
   "source": [
    "# rule1 = \"A => (C ^ B) + E\"\n",
    "# rule2 = \"F => D ^ (B ^ C)\"\n",
    "rule1 = \"A => B ^ C\"\n",
    "rule2 = \"B => D\"\n",
    "\n",
    "true_facts = \"A\"\n",
    "\n",
    "queries = \"D\"\n",
    "try:\n",
    "    graph = Graph()\n",
    "    \n",
    "    graph.add_new_AST(Parser(Lexer(rule1)).parse())\n",
    "    graph.add_new_AST(Parser(Lexer(rule2)).parse())\n",
    "    \n",
    "    graph.learn_facts(true_facts)\n",
    "    for node in graph.implies_list:\n",
    "        graph.set_facts(node)\n",
    "    graph.check_contradiction()\n",
    "    \n",
    "    for query in queries:\n",
    "        graph.query(query)\n",
    "    \n",
    "except Exception as e:\n",
    "    print(e)"
   ]
  },
  {
   "cell_type": "code",
   "execution_count": null,
   "metadata": {},
   "outputs": [],
   "source": []
  },
  {
   "cell_type": "code",
   "execution_count": 27,
   "metadata": {},
   "outputs": [],
   "source": [
    "class Graph(object):\n",
    "\n",
    "    def __init__(self):\n",
    "        self.implies_list = []\n",
    "        self.implies_name_list = []\n",
    "        self.true_facts = \"\"\n",
    "        self.interpretor = Interpreter()\n",
    "\n",
    "    def error(self, s):\n",
    "        raise Exception(s)\n",
    "\n",
    "    def add_new_AST(self, root):\n",
    "        self.update_implies_list(root.right)\n",
    "        self.update_graph(root.left, root.right)\n",
    "\n",
    "    def update_implies_list(self, node):\n",
    "        if node:\n",
    "            if type(node).__name__ == \"Node_letter\":\n",
    "                if node.name not in self.implies_name_list:\n",
    "                    self.implies_list.append(node)\n",
    "                    self.implies_name_list.append(node.name)\n",
    "            if type(node).__name__ == \"Node_condition\":\n",
    "                self.update_implies_list(node.left)\n",
    "                self.update_implies_list(node.right)\n",
    "\n",
    "    def update_graph(self, left, node):\n",
    "        if node:\n",
    "#             if node.token.type == \"OR\" or node.token.type == \"XOR\":\n",
    "#                 left.ind = 1\n",
    "            if type(node).__name__ == \"Node_letter\":\n",
    "                if node.neg == 1:\n",
    "                    (self.find_letter_in_implies(node.name)\n",
    "                        .childs_neg.append(left))\n",
    "                else:\n",
    "                    (self.find_letter_in_implies(node.name)\n",
    "                        .childs_pos.append(left))\n",
    "            if type(node).__name__ == \"Node_condition\":\n",
    "                if node.token.type == \"OR\" or node.token.type == \"XOR\":\n",
    "                    self.update_ind_dics(left, node)\n",
    "                self.update_graph(left, node.left)\n",
    "                self.update_graph(left, node.right)\n",
    "\n",
    "    def update_ind_dics(self, left, node):\n",
    "        if node.token.type == \"OR\":\n",
    "            if type(node.left).__name__ == \"Node_letter\":\n",
    "                self.find_letter_in_implies(node.left.name).or_dic[left] = node.right\n",
    "            else:\n",
    "                node.left.or_dic[left] = node.right\n",
    "            if type(node.right).__name__ == \"Node_letter\":\n",
    "                self.find_letter_in_implies(node.right.name).or_dic[left] = node.left\n",
    "            else:\n",
    "                node.right.or_dic[left] = node.left\n",
    "        if node.token.type == \"XOR\":\n",
    "            if type(node.left).__name__ == \"Node_letter\":\n",
    "                self.find_letter_in_implies(node.left.name).xor_dic[left] = node.right\n",
    "            else:\n",
    "                node.left.xor_dic[left] = node.right\n",
    "            if type(node.right).__name__ == \"Node_letter\":\n",
    "                self.find_letter_in_implies(node.right.name).xor_dic[left] = node.left\n",
    "            else:\n",
    "                node.right.xor_dic[left] = node.left\n",
    "            \n",
    "    def find_letter_in_implies(self, name):\n",
    "        for node in self.implies_list:\n",
    "            if node.name == name:\n",
    "                return node\n",
    "        return None\n",
    "\n",
    "    def learn_facts(self, true_facts):\n",
    "        self.true_facts = true_facts\n",
    "\n",
    "    def set_facts(self, node):\n",
    "        if node:\n",
    "            if type(node).__name__ == \"Node_letter\":\n",
    "                for child in (node.childs_pos + node.childs_neg):\n",
    "                    self.set_facts(child)\n",
    "                if node.token.value in self.true_facts:\n",
    "                    node.state = 1 \n",
    "            if type(node).__name__ == \"Node_condition\":\n",
    "                self.set_facts(node.left)\n",
    "                self.set_facts(node.right)\n",
    "\n",
    "    def query(self, letter):\n",
    "        if letter in self.full_history.keys():\n",
    "            print(\"{} is {}\".format(letter, self.full_history[letter]))\n",
    "            return self.full_history[letter]\n",
    "        elif letter in self.true_facts:\n",
    "            print(\"{} is True\".format(letter))\n",
    "            return True\n",
    "        else:\n",
    "            print(\"{} is False\".format(letter))\n",
    "            return False\n",
    "        \n",
    "    def check_contradiction(self):\n",
    "        self.full_history = {}\n",
    "        for node in self.implies_list:\n",
    "            self.full_history[node.name] = self.get_final_state(node)\n",
    "            if self.full_history[node.name] is None:\n",
    "                if node.name in self.true_facts:\n",
    "                    self.full_history[node.name] = True\n",
    "                else:\n",
    "                    self.full_history[node.name] = False\n",
    "\n",
    "    def get_final_state(self, node):\n",
    "        history = []\n",
    "        ind_trig = 0\n",
    "        for child in node.childs_pos:\n",
    "            res = self.interpretor.interpret(child, self)\n",
    "#             print(res, node, child)\n",
    "            if res == 1:\n",
    "#                 if child in node.xor_dic.keys():\n",
    "#                     true_state = self.get_undetermined_state()\n",
    "#                     history.append(true_state)\n",
    "#                 else:\n",
    "                    history.append(True)\n",
    "\n",
    "        for child in node.childs_neg:\n",
    "            res = self.interpretor.interpret(child, self)\n",
    "            if res == 1:\n",
    "                history.append(False)\n",
    "\n",
    "        if len(set(history)) == 0:\n",
    "            return\n",
    "        elif len(set(history)) == 1:\n",
    "            return history[0]\n",
    "        else:\n",
    "            self.error(\"Error contradiction found with letter {}\"\n",
    "                       .format(node.name))"
   ]
  },
  {
   "cell_type": "code",
   "execution_count": 28,
   "metadata": {},
   "outputs": [
    {
     "name": "stdout",
     "output_type": "stream",
     "text": [
      "D is True\n"
     ]
    }
   ],
   "source": [
    "# rule1 = \"A => (C ^ B) + E\"\n",
    "# rule2 = \"F => D ^ (B ^ C)\"\n",
    "rule1 = \"A => B ^ C\"\n",
    "rule2 = \"B => D\"\n",
    "\n",
    "true_facts = \"A\"\n",
    "\n",
    "queries = \"D\"\n",
    "try:\n",
    "    graph = Graph()\n",
    "    \n",
    "    graph.add_new_AST(Parser(Lexer(rule1)).parse())\n",
    "    graph.add_new_AST(Parser(Lexer(rule2)).parse())\n",
    "    \n",
    "    graph.learn_facts(true_facts)\n",
    "    for node in graph.implies_list:\n",
    "        graph.set_facts(node)\n",
    "    graph.check_contradiction()\n",
    "    \n",
    "    for query in queries:\n",
    "        graph.query(query)\n",
    "    \n",
    "except Exception as e:\n",
    "    print(e)"
   ]
  },
  {
   "cell_type": "code",
   "execution_count": 16,
   "metadata": {},
   "outputs": [
    {
     "name": "stdout",
     "output_type": "stream",
     "text": [
      "Node_letter(Token(LETTER, C))\n",
      "Node_letter(Token(LETTER, B))\n",
      "Node_letter(Token(LETTER, E))\n",
      "Node_letter(Token(LETTER, D))\n",
      "\n",
      "ici Node_letter(Token(LETTER, A))\n",
      "ici Node_letter(Token(LETTER, F))\n",
      "\n",
      "dict_keys([<xs_node.Node_letter object at 0x1041b43c8>, <xs_node.Node_letter object at 0x1041b4e10>])\n"
     ]
    }
   ],
   "source": [
    "for node in graph.implies_list:\n",
    "    print(node)\n",
    "print()\n",
    "for node in graph.implies_list[0].childs_pos:\n",
    "    if node in graph.implies_list[0].xor_dic:\n",
    "        print(\"ici\", node)\n",
    "    else:\n",
    "        print(\"pas ici\", node)\n",
    "print()\n",
    "# print(graph.implies_list[2].childs_pos)\n",
    "print(graph.implies_list[0].xor_dic.keys())"
   ]
  },
  {
   "cell_type": "code",
   "execution_count": 45,
   "metadata": {},
   "outputs": [],
   "source": [
    "import copy"
   ]
  },
  {
   "cell_type": "code",
   "execution_count": 47,
   "metadata": {},
   "outputs": [
    {
     "name": "stdout",
     "output_type": "stream",
     "text": [
      "<__main__.Graph object at 0x1042540f0>\n",
      "[<xs_node.Node_letter object at 0x1041b4e10>, <xs_node.Node_letter object at 0x1041b49e8>, <xs_node.Node_letter object at 0x1041b4c18>]\n",
      "<__main__.Graph object at 0x1041ce390>\n",
      "[<xs_node.Node_letter object at 0x1041ce278>, <xs_node.Node_letter object at 0x1041b4240>, <xs_node.Node_letter object at 0x1041b42b0>]\n"
     ]
    }
   ],
   "source": [
    "print(graph)\n",
    "print(graph.implies_list)\n",
    "\n",
    "t = copy.deepcopy(graph)\n",
    "print(t)\n",
    "print(t.implies_list)"
   ]
  },
  {
   "cell_type": "code",
   "execution_count": 21,
   "metadata": {},
   "outputs": [
    {
     "name": "stdout",
     "output_type": "stream",
     "text": [
      "Node_letter(Token(LETTER, F))\n",
      "\n",
      "Node_letter(Token(LETTER, A))\n",
      "Node_letter(Token(LETTER, F))\n"
     ]
    }
   ],
   "source": [
    "t = copy.copy(graph.implies_list[0])\n",
    "\n",
    "# for x in t:\n",
    "print(x)\n",
    "print()\n",
    "for x in graph.implies_list[0].childs_pos:\n",
    "    print(x)\n"
   ]
  },
  {
   "cell_type": "code",
   "execution_count": 37,
   "metadata": {},
   "outputs": [],
   "source": [
    "dic = {}\n",
    "dic['a'] = \"b\"\n",
    "dic['c'] = \"d\""
   ]
  },
  {
   "cell_type": "code",
   "execution_count": 41,
   "metadata": {},
   "outputs": [
    {
     "name": "stdout",
     "output_type": "stream",
     "text": [
      "b\n",
      "d\n"
     ]
    }
   ],
   "source": [
    "for i in dic.values():\n",
    "    print(i)"
   ]
  },
  {
   "cell_type": "code",
   "execution_count": 35,
   "metadata": {},
   "outputs": [
    {
     "data": {
      "text/plain": [
       "<function dict.keys>"
      ]
     },
     "execution_count": 35,
     "metadata": {},
     "output_type": "execute_result"
    }
   ],
   "source": [
    "dic.keys"
   ]
  },
  {
   "cell_type": "code",
   "execution_count": null,
   "metadata": {},
   "outputs": [],
   "source": []
  }
 ],
 "metadata": {
  "kernelspec": {
   "display_name": "Python 3",
   "language": "python",
   "name": "python3"
  },
  "language_info": {
   "codemirror_mode": {
    "name": "ipython",
    "version": 3
   },
   "file_extension": ".py",
   "mimetype": "text/x-python",
   "name": "python",
   "nbconvert_exporter": "python",
   "pygments_lexer": "ipython3",
   "version": "3.7.1"
  }
 },
 "nbformat": 4,
 "nbformat_minor": 2
}
