{
 "cells": [
  {
   "cell_type": "markdown",
   "metadata": {},
   "source": [
    "Cette feuille a pour but de travailler a la construction d'un AST"
   ]
  },
  {
   "cell_type": "code",
   "execution_count": null,
   "metadata": {},
   "outputs": [],
   "source": [
    "s = \"1+2+3+4+5\""
   ]
  },
  {
   "cell_type": "code",
   "execution_count": 29,
   "metadata": {},
   "outputs": [
    {
     "name": "stdout",
     "output_type": "stream",
     "text": [
      "Token(LETTER, 'A')\n",
      "Token(AND, '+')\n",
      "Token(LETTER, 'B')\n",
      "Token(XOR, '^')\n",
      "Token(OPEN_PAR, '(')\n",
      "Token(LETTER, 'B')\n",
      "Token(NOT, '!')\n",
      "Token(LETTER, 'F')\n",
      "Token(CLOSE_PAR, ')')\n",
      "Token(AND, '+')\n",
      "Token(LETTER, 'D')\n",
      "Token(EOL, None)\n"
     ]
    }
   ],
   "source": [
    "class AST(object):\n",
    "    pass\n",
    "\n",
    "class Node_letter(object):\n",
    "    \n",
    "    def __init__(self, token, name):\n",
    "        self.token = token\n",
    "        self.name = name\n",
    "        self.state = 0\n",
    "        \n",
    "class Node_condition(object):\n",
    "    \n",
    "    def __init__(self, left, cond, right):\n",
    "        self.left = left\n",
    "        self.token = self.cond = cond\n",
    "        self.right = right\n",
    "        #self.not = 0\n",
    "        \n",
    "class Token(object):\n",
    "    def __init__(self, token_type, value):\n",
    "        self.type = token_type\n",
    "        self.value = value\n",
    "\n",
    "    def __str__(self):\n",
    "        \"\"\"String representation of the class instance.\n",
    "        Examples:\n",
    "            Token(NEG, \"!\")\n",
    "            Token(LETTER, \"A\")\n",
    "            Token(AND, '+')\n",
    "            Token(OR, '|')\n",
    "            Token(XOR, '^')\n",
    "        \"\"\"\n",
    "        return 'Token({type}, {value})'.format(\n",
    "            type=self.type,\n",
    "            value=repr(self.value)\n",
    "        )\n",
    "\n",
    "    def __repr__(self):\n",
    "        return self.__str__()\n",
    "\n",
    "\n",
    "class Lexer(object):\n",
    "    def __init__(self, line):\n",
    "        self.rule = line\n",
    "        \n",
    "        self.pos = 0\n",
    "        self.current_char = self.rule[self.pos]\n",
    "        for e in self.get_next_token():\n",
    "            print(e)\n",
    "    \n",
    "    def error(self, char):\n",
    "        raise Exception('Invalid character \\'{}\\' at index {}'.format(char, self.pos + 1))\n",
    "\n",
    "    def get_next_token(self):\n",
    "        dic_op = {\n",
    "            \"+\": \"AND\",\n",
    "            \"|\": \"OR\",\n",
    "            \"^\": \"XOR\",\n",
    "            \"!\": \"NOT\",\n",
    "            \"(\": \"OPEN_PAR\",\n",
    "            \")\": \"CLOSE_PAR\"\n",
    "        }\n",
    "        dic_equal = {\n",
    "            \"=\": \"EQUAL\",\n",
    "            \">\": \"IMPLIES\",\n",
    "            \"<\": \"IAOI\" # IAOI signifie \"if and only if\"\n",
    "        }\n",
    "        for char in self.rule:\n",
    "            if char == \" \":\n",
    "                self.pos += 1\n",
    "                continue\n",
    "            if ord(char) in range(ord(\"A\"), ord(\"Z\") + 1):\n",
    "                yield Token(\"LETTER\", char)\n",
    "            elif char in dic_op:\n",
    "                yield Token(dic_op[char], char)\n",
    "            elif char in dic_equal:\n",
    "                yield Token(\"EQUAL\")\n",
    "            else:\n",
    "                self.error(char)\n",
    "            self.pos += 1\n",
    "            \n",
    "        yield Token(\"EOL\", None)\n",
    "\n",
    "lexer = Lexer(\"A + B ^ (B ! F) + D\")\n",
    "\n",
    "\n",
    "            "
   ]
  },
  {
   "cell_type": "code",
   "execution_count": null,
   "metadata": {},
   "outputs": [],
   "source": []
  },
  {
   "cell_type": "code",
   "execution_count": null,
   "metadata": {},
   "outputs": [],
   "source": []
  },
  {
   "cell_type": "code",
   "execution_count": null,
   "metadata": {},
   "outputs": [],
   "source": []
  }
 ],
 "metadata": {
  "kernelspec": {
   "display_name": "Python 3",
   "language": "python",
   "name": "python3"
  },
  "language_info": {
   "codemirror_mode": {
    "name": "ipython",
    "version": 3
   },
   "file_extension": ".py",
   "mimetype": "text/x-python",
   "name": "python",
   "nbconvert_exporter": "python",
   "pygments_lexer": "ipython3",
   "version": "3.7.1"
  }
 },
 "nbformat": 4,
 "nbformat_minor": 2
}
