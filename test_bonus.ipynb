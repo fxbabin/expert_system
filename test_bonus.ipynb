{
 "cells": [
  {
   "cell_type": "code",
   "execution_count": 1,
   "metadata": {},
   "outputs": [],
   "source": [
    "from xs_lexer import Lexer\n",
    "from xs_parser import Parser\n",
    "import copy\n",
    "# from xs_node import Node_letter, Node_condition"
   ]
  },
  {
   "cell_type": "code",
   "execution_count": 7,
   "metadata": {},
   "outputs": [],
   "source": [
    "class Node_letter(object):\n",
    "\n",
    "    def __init__(self, token, name):\n",
    "        self.token = token\n",
    "        self.name = name\n",
    "        self.state = 0\n",
    "        self.neg = 0\n",
    "        self.childs_pos = []\n",
    "        self.childs_neg = []\n",
    "        self.visited = 0\n",
    "        self.or_dic = {}\n",
    "        self.xor_dic = {}\n",
    "        self.ind = 0\n",
    "\n",
    "    def __str__(self):\n",
    "        return \"Node_letter({})\".format(self.token)\n",
    "\n",
    "\n",
    "class Node_condition(object):\n",
    "\n",
    "    def __init__(self, left, cond, right):\n",
    "        self.left = left\n",
    "        self.token = self.cond = cond\n",
    "        self.right = right\n",
    "        self.neg = 0\n",
    "        self.visited = 0\n",
    "        self.or_dic = {}\n",
    "        self.xor_dic = {}\n",
    "        self.ind = 0\n",
    "\n",
    "    def __str__(self):\n",
    "        return \"Node_condition({}\".format(self.token)"
   ]
  },
  {
   "cell_type": "code",
   "execution_count": 8,
   "metadata": {},
   "outputs": [],
   "source": [
    "class Interpreter(object):\n",
    "\n",
    "    def __init__(self):\n",
    "        self.graph_list = {}\n",
    "        self.all_histories = []\n",
    "        pass\n",
    "\n",
    "    def interpret(self, node, graph):\n",
    "        if node:\n",
    "            if type(node).__name__ == \"Node_condition\":\n",
    "                return abs(self.apply_logical(node, node.left,\n",
    "                           node.right, graph) - node.neg)\n",
    "            node.visited = 1 \n",
    "            if type(node).__name__ == \"Node_letter\":\n",
    "                implies_node = graph.find_letter_in_implies(node.name)\n",
    "                if implies_node:\n",
    "                    for child in implies_node.childs_pos:\n",
    "                        if child.visited == 0:\n",
    "                            if self.interpret(child, graph) == 1:\n",
    "                                node.state = 1 \n",
    "                    for child in implies_node.childs_neg:\n",
    "                        if child.visited == 0:\n",
    "                            if self.interpret(child, graph) == 1:\n",
    "                                node.state = 0 \n",
    "                node.visited = 0 \n",
    "                return abs(node.state - node.neg)\n",
    "\n",
    "    def apply_logical(self, node, left, right, graph):\n",
    "        if node.token.type == \"AND\":\n",
    "            return self.interpret(left, graph) & self.interpret(right, graph)\n",
    "        if node.token.type == \"OR\":\n",
    "            return self.interpret(left, graph) | self.interpret(right, graph)\n",
    "        if node.token.type == \"XOR\":\n",
    "            return self.interpret(left, graph) ^ self.interpret(right, graph)"
   ]
  },
  {
   "cell_type": "code",
   "execution_count": 18,
   "metadata": {},
   "outputs": [
    {
     "name": "stdout",
     "output_type": "stream",
     "text": [
      "'Graph' object has no attribute 'resolve_complex'\n"
     ]
    }
   ],
   "source": [
    "# rule1 = \"A => (C ^ B) + E\"\n",
    "# rule2 = \"F => D ^ (B ^ C)\"\n",
    "rule1 = \"A => B ^ C \" # A => B et A => C\n",
    "# rule2 = \"D => G ^ E\"\n",
    "rule3 = \"C ^ E => F\"\n",
    "\n",
    "true_facts = \"AD\"\n",
    "\n",
    "queries = \"BCF\"\n",
    "try:\n",
    "    graph = Graph()\n",
    "    \n",
    "    graph.add_new_AST(Parser(Lexer(rule1)).parse())\n",
    "#     graph.add_new_AST(Parser(Lexer(rule2)).parse())\n",
    "    graph.add_new_AST(Parser(Lexer(rule3)).parse())\n",
    "    \n",
    "    graph.learn_facts(true_facts)\n",
    "    for node in graph.implies_list:\n",
    "        graph.set_facts(node)\n",
    "    if graph.incoherent == 0:\n",
    "        graph.resolve_simple()\n",
    "    else:\n",
    "        graph.resolve_complex()\n",
    "\n",
    "    for query in queries:\n",
    "        graph.query(query)\n",
    "    \n",
    "except Exception as e:\n",
    "    print(e)"
   ]
  },
  {
   "cell_type": "code",
   "execution_count": 17,
   "metadata": {},
   "outputs": [
    {
     "name": "stdout",
     "output_type": "stream",
     "text": [
      "Node_letter(Token(LETTER, B))\n",
      "Node_letter(Token(LETTER, C))\n",
      "Node_letter(Token(LETTER, G))\n",
      "Node_letter(Token(LETTER, E))\n",
      "Node_letter(Token(LETTER, F))\n",
      "\n",
      "0x10c7ea860\n"
     ]
    }
   ],
   "source": [
    "for node in graph.implies_list:\n",
    "    print(node)\n",
    "print()\n",
    "for node in graph.implies_list[0].childs_pos:\n",
    "    print(hex(id(node)))"
   ]
  },
  {
   "cell_type": "code",
   "execution_count": 289,
   "metadata": {},
   "outputs": [
    {
     "name": "stdout",
     "output_type": "stream",
     "text": [
      "Node_letter(Token(LETTER, A))\n",
      "ici\n",
      "Node_letter(Token(LETTER, A))\n",
      "ici\n",
      "error_rule_not_found 0x1120b0160 0x10c9694e0\n"
     ]
    },
    {
     "ename": "KeyError",
     "evalue": "None",
     "output_type": "error",
     "traceback": [
      "\u001b[0;31m---------------------------------------------------------------------------\u001b[0m",
      "\u001b[0;31mKeyError\u001b[0m                                  Traceback (most recent call last)",
      "\u001b[0;32m<ipython-input-289-bc7e1f06c02f>\u001b[0m in \u001b[0;36m<module>\u001b[0;34m()\u001b[0m\n\u001b[1;32m     11\u001b[0m     \u001b[0mgraph\u001b[0m\u001b[0;34m.\u001b[0m\u001b[0mresolve_simple\u001b[0m\u001b[0;34m(\u001b[0m\u001b[0;34m)\u001b[0m\u001b[0;34m\u001b[0m\u001b[0m\n\u001b[1;32m     12\u001b[0m \u001b[0;32melse\u001b[0m\u001b[0;34m:\u001b[0m\u001b[0;34m\u001b[0m\u001b[0m\n\u001b[0;32m---> 13\u001b[0;31m     \u001b[0mgraph\u001b[0m\u001b[0;34m.\u001b[0m\u001b[0mresolve_complex\u001b[0m\u001b[0;34m(\u001b[0m\u001b[0;34m)\u001b[0m\u001b[0;34m\u001b[0m\u001b[0m\n\u001b[0m\u001b[1;32m     14\u001b[0m \u001b[0;32mfor\u001b[0m \u001b[0mquery\u001b[0m \u001b[0;32min\u001b[0m \u001b[0mqueries\u001b[0m\u001b[0;34m:\u001b[0m\u001b[0;34m\u001b[0m\u001b[0m\n\u001b[1;32m     15\u001b[0m     \u001b[0mgraph\u001b[0m\u001b[0;34m.\u001b[0m\u001b[0mquery\u001b[0m\u001b[0;34m(\u001b[0m\u001b[0mquery\u001b[0m\u001b[0;34m)\u001b[0m\u001b[0;34m\u001b[0m\u001b[0m\n",
      "\u001b[0;32m<ipython-input-286-22fcca82765a>\u001b[0m in \u001b[0;36mresolve_complex\u001b[0;34m(self)\u001b[0m\n\u001b[1;32m    135\u001b[0m     \u001b[0;32mdef\u001b[0m \u001b[0mresolve_complex\u001b[0m\u001b[0;34m(\u001b[0m\u001b[0mself\u001b[0m\u001b[0;34m)\u001b[0m\u001b[0;34m:\u001b[0m\u001b[0;34m\u001b[0m\u001b[0m\n\u001b[1;32m    136\u001b[0m         \u001b[0minc\u001b[0m \u001b[0;34m=\u001b[0m \u001b[0;36m0\u001b[0m\u001b[0;34m\u001b[0m\u001b[0m\n\u001b[0;32m--> 137\u001b[0;31m         \u001b[0mself\u001b[0m\u001b[0;34m.\u001b[0m\u001b[0mcheck_ind_rules\u001b[0m\u001b[0;34m(\u001b[0m\u001b[0mself\u001b[0m\u001b[0;34m,\u001b[0m \u001b[0mself\u001b[0m\u001b[0;34m,\u001b[0m \u001b[0;32mNone\u001b[0m\u001b[0;34m)\u001b[0m\u001b[0;34m\u001b[0m\u001b[0m\n\u001b[0m\u001b[1;32m    138\u001b[0m         \u001b[0mself\u001b[0m\u001b[0;34m.\u001b[0m\u001b[0mtmp_history\u001b[0m \u001b[0;34m=\u001b[0m \u001b[0;34m{\u001b[0m\u001b[0;34m}\u001b[0m\u001b[0;34m\u001b[0m\u001b[0m\n\u001b[1;32m    139\u001b[0m         \u001b[0;32mfor\u001b[0m \u001b[0mcopy_graph\u001b[0m \u001b[0;32min\u001b[0m \u001b[0mself\u001b[0m\u001b[0;34m.\u001b[0m\u001b[0mlist_copy\u001b[0m\u001b[0;34m:\u001b[0m\u001b[0;34m\u001b[0m\u001b[0m\n",
      "\u001b[0;32m<ipython-input-286-22fcca82765a>\u001b[0m in \u001b[0;36mcheck_ind_rules\u001b[0;34m(self, origin_graph, current_graph, prev_rule)\u001b[0m\n\u001b[1;32m    174\u001b[0m \u001b[0;34m\u001b[0m\u001b[0m\n\u001b[1;32m    175\u001b[0m                 \u001b[0;32mif\u001b[0m \u001b[0mcopy_rule\u001b[0m\u001b[0;34m:\u001b[0m\u001b[0;34m\u001b[0m\u001b[0m\n\u001b[0;32m--> 176\u001b[0;31m                     \u001b[0mself\u001b[0m\u001b[0;34m.\u001b[0m\u001b[0mcheck_ind_rules\u001b[0m\u001b[0;34m(\u001b[0m\u001b[0morigin_graph\u001b[0m\u001b[0;34m,\u001b[0m \u001b[0mcopy_graph_1\u001b[0m\u001b[0;34m,\u001b[0m \u001b[0mcopy_rule\u001b[0m\u001b[0;34m)\u001b[0m\u001b[0;34m\u001b[0m\u001b[0m\n\u001b[0m\u001b[1;32m    177\u001b[0m                 \u001b[0;32melse\u001b[0m\u001b[0;34m:\u001b[0m\u001b[0;34m\u001b[0m\u001b[0m\n\u001b[1;32m    178\u001b[0m                     \u001b[0mself\u001b[0m\u001b[0;34m.\u001b[0m\u001b[0mcheck_ind_rules\u001b[0m\u001b[0;34m(\u001b[0m\u001b[0morigin_graph\u001b[0m\u001b[0;34m,\u001b[0m \u001b[0mcopy_graph_1\u001b[0m\u001b[0;34m,\u001b[0m \u001b[0;32mNone\u001b[0m\u001b[0;34m)\u001b[0m\u001b[0;34m\u001b[0m\u001b[0m\n",
      "\u001b[0;32m<ipython-input-286-22fcca82765a>\u001b[0m in \u001b[0;36mcheck_ind_rules\u001b[0;34m(self, origin_graph, current_graph, prev_rule)\u001b[0m\n\u001b[1;32m    177\u001b[0m                 \u001b[0;32melse\u001b[0m\u001b[0;34m:\u001b[0m\u001b[0;34m\u001b[0m\u001b[0m\n\u001b[1;32m    178\u001b[0m                     \u001b[0mself\u001b[0m\u001b[0;34m.\u001b[0m\u001b[0mcheck_ind_rules\u001b[0m\u001b[0;34m(\u001b[0m\u001b[0morigin_graph\u001b[0m\u001b[0;34m,\u001b[0m \u001b[0mcopy_graph_1\u001b[0m\u001b[0;34m,\u001b[0m \u001b[0;32mNone\u001b[0m\u001b[0;34m)\u001b[0m\u001b[0;34m\u001b[0m\u001b[0m\n\u001b[0;32m--> 179\u001b[0;31m                 \u001b[0mself\u001b[0m\u001b[0;34m.\u001b[0m\u001b[0mcheck_ind_rules\u001b[0m\u001b[0;34m(\u001b[0m\u001b[0morigin_graph\u001b[0m\u001b[0;34m,\u001b[0m \u001b[0mcopy_graph_2\u001b[0m\u001b[0;34m,\u001b[0m \u001b[0;32mNone\u001b[0m\u001b[0;34m)\u001b[0m\u001b[0;34m\u001b[0m\u001b[0m\n\u001b[0m\u001b[1;32m    180\u001b[0m             \u001b[0;32mif\u001b[0m \u001b[0mtot\u001b[0m \u001b[0;34m!=\u001b[0m \u001b[0;36m0\u001b[0m\u001b[0;34m:\u001b[0m\u001b[0;34m\u001b[0m\u001b[0m\n\u001b[1;32m    181\u001b[0m                 \u001b[0;32mbreak\u001b[0m\u001b[0;34m\u001b[0m\u001b[0m\n",
      "\u001b[0;32m<ipython-input-286-22fcca82765a>\u001b[0m in \u001b[0;36mcheck_ind_rules\u001b[0;34m(self, origin_graph, current_graph, prev_rule)\u001b[0m\n\u001b[1;32m    170\u001b[0m                     \u001b[0mself\u001b[0m\u001b[0;34m.\u001b[0m\u001b[0mset_rules\u001b[0m\u001b[0;34m(\u001b[0m\u001b[0mrule\u001b[0m\u001b[0;34m,\u001b[0m \u001b[0mnode\u001b[0m\u001b[0;34m,\u001b[0m \u001b[0mcopy_graph_2\u001b[0m\u001b[0;34m,\u001b[0m \u001b[0;36m4\u001b[0m\u001b[0;34m)\u001b[0m\u001b[0;34m\u001b[0m\u001b[0m\n\u001b[1;32m    171\u001b[0m                 \u001b[0;32melse\u001b[0m\u001b[0;34m:\u001b[0m\u001b[0;34m\u001b[0m\u001b[0m\n\u001b[0;32m--> 172\u001b[0;31m                     \u001b[0mself\u001b[0m\u001b[0;34m.\u001b[0m\u001b[0mset_rules\u001b[0m\u001b[0;34m(\u001b[0m\u001b[0mrule\u001b[0m\u001b[0;34m,\u001b[0m \u001b[0mnode\u001b[0m\u001b[0;34m,\u001b[0m \u001b[0mcopy_graph_1\u001b[0m\u001b[0;34m,\u001b[0m \u001b[0;36m1\u001b[0m\u001b[0;34m)\u001b[0m\u001b[0;34m\u001b[0m\u001b[0m\n\u001b[0m\u001b[1;32m    173\u001b[0m                     \u001b[0mself\u001b[0m\u001b[0;34m.\u001b[0m\u001b[0mset_rules\u001b[0m\u001b[0;34m(\u001b[0m\u001b[0mrule\u001b[0m\u001b[0;34m,\u001b[0m \u001b[0mnode\u001b[0m\u001b[0;34m,\u001b[0m \u001b[0mcopy_graph_2\u001b[0m\u001b[0;34m,\u001b[0m \u001b[0;36m2\u001b[0m\u001b[0;34m)\u001b[0m\u001b[0;34m\u001b[0m\u001b[0m\n\u001b[1;32m    174\u001b[0m \u001b[0;34m\u001b[0m\u001b[0m\n",
      "\u001b[0;32m<ipython-input-286-22fcca82765a>\u001b[0m in \u001b[0;36mset_rules\u001b[0;34m(self, rule, node, copy_graph, step)\u001b[0m\n\u001b[1;32m    186\u001b[0m         \u001b[0mcopy_node\u001b[0m \u001b[0;34m=\u001b[0m \u001b[0mcopy_graph\u001b[0m\u001b[0;34m.\u001b[0m\u001b[0mfind_letter_in_implies\u001b[0m\u001b[0;34m(\u001b[0m\u001b[0mnode\u001b[0m\u001b[0;34m.\u001b[0m\u001b[0mname\u001b[0m\u001b[0;34m)\u001b[0m\u001b[0;34m\u001b[0m\u001b[0m\n\u001b[1;32m    187\u001b[0m         \u001b[0mcopy_rule\u001b[0m \u001b[0;34m=\u001b[0m \u001b[0mself\u001b[0m\u001b[0;34m.\u001b[0m\u001b[0mget_copy_rule\u001b[0m\u001b[0;34m(\u001b[0m\u001b[0mnode\u001b[0m\u001b[0;34m,\u001b[0m \u001b[0mrule\u001b[0m\u001b[0;34m,\u001b[0m \u001b[0mcopy_node\u001b[0m\u001b[0;34m,\u001b[0m \u001b[0mcopy_graph\u001b[0m\u001b[0;34m)\u001b[0m\u001b[0;34m\u001b[0m\u001b[0m\n\u001b[0;32m--> 188\u001b[0;31m         \u001b[0mcopy_mirror\u001b[0m \u001b[0;34m=\u001b[0m \u001b[0mcopy_node\u001b[0m\u001b[0;34m.\u001b[0m\u001b[0mxor_dic\u001b[0m\u001b[0;34m[\u001b[0m\u001b[0mcopy_rule\u001b[0m\u001b[0;34m]\u001b[0m\u001b[0;34m\u001b[0m\u001b[0m\n\u001b[0m\u001b[1;32m    189\u001b[0m         \u001b[0;32mif\u001b[0m \u001b[0mstep\u001b[0m \u001b[0;34m==\u001b[0m \u001b[0;36m1\u001b[0m\u001b[0;34m:\u001b[0m\u001b[0;34m\u001b[0m\u001b[0m\n\u001b[1;32m    190\u001b[0m             \u001b[0mself\u001b[0m\u001b[0;34m.\u001b[0m\u001b[0mdel_rule_in_childs\u001b[0m\u001b[0;34m(\u001b[0m\u001b[0mcopy_mirror\u001b[0m\u001b[0;34m,\u001b[0m \u001b[0mcopy_rule\u001b[0m\u001b[0;34m)\u001b[0m\u001b[0;34m\u001b[0m\u001b[0m\n",
      "\u001b[0;31mKeyError\u001b[0m: None"
     ]
    }
   ],
   "source": [
    "graph = Graph()\n",
    "    \n",
    "graph.add_new_AST(Parser(Lexer(rule1)).parse())\n",
    "# graph.add_new_AST(Parser(Lexer(rule2)).parse())\n",
    "graph.add_new_AST(Parser(Lexer(rule3)).parse())\n",
    "    \n",
    "graph.learn_facts(true_facts)\n",
    "for node in graph.implies_list:\n",
    "    graph.set_facts(node)\n",
    "if graph.incoherent == 0:\n",
    "    graph.resolve_simple()\n",
    "else:\n",
    "    graph.resolve_complex()    \n",
    "for query in queries:\n",
    "    graph.query(query)"
   ]
  },
  {
   "cell_type": "code",
   "execution_count": 359,
   "metadata": {},
   "outputs": [],
   "source": [
    "class Graph(object):\n",
    "\n",
    "    def __init__(self):\n",
    "        self.implies_list = []\n",
    "        self.implies_name_list = []\n",
    "        self.true_facts = \"\"\n",
    "        self.incoherent = 0\n",
    "        self.interpretor = Interpreter()\n",
    "        self.full_history = {}\n",
    "        self.list_copy = []\n",
    "\n",
    "    def error(self, s):\n",
    "        raise Exception(s)\n",
    "\n",
    "    def add_new_AST(self, root):\n",
    "        self.update_implies_list(root.right)\n",
    "        self.update_graph(root.left, root.right)\n",
    "\n",
    "    def update_implies_list(self, node):\n",
    "        if node:\n",
    "            if type(node).__name__ == \"Node_letter\":\n",
    "                if node.name not in self.implies_name_list:\n",
    "                    self.implies_list.append(node)\n",
    "                    self.implies_name_list.append(node.name)\n",
    "            if type(node).__name__ == \"Node_condition\":\n",
    "                self.update_implies_list(node.left)\n",
    "                self.update_implies_list(node.right)\n",
    "\n",
    "    def update_graph(self, left, node):\n",
    "        if node:\n",
    "            if type(node).__name__ == \"Node_letter\":\n",
    "                if node.neg == 1:\n",
    "                    (self.find_letter_in_implies(node.name)\n",
    "                        .childs_neg.append(left))\n",
    "                else:\n",
    "                    (self.find_letter_in_implies(node.name)\n",
    "                        .childs_pos.append(left))\n",
    "            if type(node).__name__ == \"Node_condition\":\n",
    "                if node.token.type == \"OR\" or node.token.type == \"XOR\":\n",
    "                    self.update_ind_dics(left, node)\n",
    "                    self.incoherent += 1\n",
    "                self.update_graph(left, node.left)\n",
    "                self.update_graph(left, node.right)\n",
    "\n",
    "    def update_ind_dics(self, left, node):\n",
    "        if node.token.type == \"OR\":\n",
    "            if type(node.left).__name__ == \"Node_letter\":\n",
    "                self.find_letter_in_implies(node.left.name).or_dic[left] = node.right\n",
    "            else:\n",
    "                node.left.or_dic[left] = node.right\n",
    "            if type(node.right).__name__ == \"Node_letter\":\n",
    "                self.find_letter_in_implies(node.right.name).or_dic[left] = node.left\n",
    "            else:\n",
    "                node.right.or_dic[left] = node.left\n",
    "        if node.token.type == \"XOR\":\n",
    "            if type(node.left).__name__ == \"Node_letter\":\n",
    "                self.find_letter_in_implies(node.left.name).xor_dic[left] = node.right\n",
    "            else:\n",
    "                node.left.xor_dic[left] = node.right\n",
    "            if type(node.right).__name__ == \"Node_letter\":\n",
    "                self.find_letter_in_implies(node.right.name).xor_dic[left] = node.left\n",
    "            else:\n",
    "                node.right.xor_dic[left] = node.left\n",
    "            \n",
    "    def find_letter_in_implies(self, name):\n",
    "        for node in self.implies_list:\n",
    "            if node.name == name:\n",
    "                return node\n",
    "        return None\n",
    "\n",
    "    def learn_facts(self, true_facts):\n",
    "        self.true_facts = true_facts\n",
    "\n",
    "    def set_facts(self, node):\n",
    "        if node:\n",
    "            if type(node).__name__ == \"Node_letter\":\n",
    "                for child in (node.childs_pos + node.childs_neg):\n",
    "                    self.set_facts(child)\n",
    "                if node.token.value in self.true_facts:\n",
    "                    node.state = 1 \n",
    "            if type(node).__name__ == \"Node_condition\":\n",
    "                self.set_facts(node.left)\n",
    "                self.set_facts(node.right)\n",
    "        \n",
    "    def query(self, letter):\n",
    "        if letter in self.full_history.keys():\n",
    "            if self.full_history[letter] != None:\n",
    "                print(\"{} is {}\".format(letter, self.full_history[letter]))\n",
    "                return self.full_history[letter]\n",
    "        if letter in self.true_facts:\n",
    "            print(\"{} is True\".format(letter))\n",
    "            return True\n",
    "        else:\n",
    "            print(\"{} is False\".format(letter))\n",
    "            return False\n",
    "\n",
    "    def resolve_simple(self):\n",
    "        for node in self.implies_list:\n",
    "            self.full_history[node.name] = self.get_simple_final_state(node)\n",
    "            if self.full_history[node.name] is None:\n",
    "                if node.name in self.true_facts:\n",
    "                    self.full_history[node.name] = True\n",
    "                else:\n",
    "                    self.full_history[node.name] = False\n",
    "        return self.full_history\n",
    "    \n",
    "    def get_simple_final_state(self, node):\n",
    "        history = []\n",
    "        for child in node.childs_pos:\n",
    "            res = self.interpretor.interpret(child, self)\n",
    "            if res == 1:\n",
    "                history.append(True)\n",
    "\n",
    "        for child in node.childs_neg:\n",
    "            res = self.interpretor.interpret(child, self)\n",
    "            if res == 1:\n",
    "                history.append(False)\n",
    "\n",
    "        if len(set(history)) == 0:\n",
    "            return\n",
    "        elif len(set(history)) == 1:\n",
    "            return history[0]\n",
    "        else:\n",
    "            self.error(\"Error contradiction found with letter {}\"\n",
    "                       .format(node.name))\n",
    "   \n",
    "    def merge_new_graph(self, new):\n",
    "        if self.tmp_history == {}:\n",
    "            self.tmp_history = new\n",
    "            return\n",
    "        for letter, state in new.items():\n",
    "            if state != self.tmp_history[letter]:\n",
    "                self.tmp_history[letter] = \"IND\"\n",
    "                \n",
    "    def resolve_complex(self):\n",
    "        inc = 0\n",
    "        self.check_ind_rules(self, self, None)\n",
    "        self.tmp_history = {}\n",
    "        for copy_graph in self.list_copy:\n",
    "            hist = copy_graph.resolve_simple()\n",
    "            print(hist)\n",
    "            self.merge_new_graph(hist)\n",
    "        self.full_history = self.tmp_history\n",
    "\n",
    "    def check_ind_rules(self, origin_graph, current_graph, prev_rule):\n",
    "        tot = 0\n",
    "        \n",
    "        for node in current_graph.implies_list:\n",
    "            for rule, mirror in node.xor_dic.items():\n",
    "                tot += 1\n",
    "                if prev_rule:\n",
    "                    node.childs_pos.append(prev_rule)\n",
    "                    if type(mirror).__name__ == \"Node_letter\":\n",
    "#                         print('ici_mirror', mirror.childs_pos, node.xor_dic)\n",
    "                        mirror.childs_pos.append(prev_rule)\n",
    "                    else:\n",
    "                        self.add_recursively_rule(mirror, prev_rule)\n",
    "\n",
    "                copy_graph_1 = copy.deepcopy(current_graph)\n",
    "                copy_graph_2 = copy.deepcopy(current_graph)\n",
    "                copy_rule = None\n",
    "                \n",
    "                if type(mirror).__name__ == \"Node_condition\":\n",
    "                    copy_node = copy_graph_1.find_letter_in_implies(node.name)\n",
    "                    copy_rule = self.get_copy_rule(node, rule, copy_node, copy_graph_1)\n",
    "                    copy_node_2 = copy_graph_2.find_letter_in_implies(node.name)\n",
    "                    copy_rule_2 = self.get_copy_rule(node, rule, copy_node_2, copy_graph_2)\n",
    "                \n",
    "                if prev_rule:\n",
    "                    self.set_rules(rule, node, copy_graph_1, 3)\n",
    "                    self.set_rules(rule, node, copy_graph_2, 4)\n",
    "                    if copy_rule:\n",
    "                        self.check_ind_rules(origin_graph, copy_graph_1, copy_rule)\n",
    "                    else:\n",
    "                        self.check_ind_rules(origin_graph, copy_graph_1, None)\n",
    "                    if type(mirror).__name__ == \"Node_condition\":\n",
    "                        self.check_ind_rules(origin_graph, copy_graph_2, copy_rule_2)\n",
    "                    else:\n",
    "                        self.check_ind_rules(origin_graph, copy_graph_2, None)\n",
    "                else:\n",
    "                    self.set_rules(rule, node, copy_graph_1, 1)\n",
    "                    self.set_rules(rule, node, copy_graph_2, 2)\n",
    "                    if copy_rule:\n",
    "                        self.check_ind_rules(origin_graph, copy_graph_1, copy_rule)\n",
    "                    else:\n",
    "                        self.check_ind_rules(origin_graph, copy_graph_1, None)\n",
    "                    self.check_ind_rules(origin_graph, copy_graph_2, None)\n",
    "                    \n",
    "            if tot != 0:\n",
    "                break\n",
    "        if tot == 0:\n",
    "            origin_graph.list_copy.append(current_graph)\n",
    "        \n",
    "    def set_rules(self, rule, node, copy_graph, step):\n",
    "        copy_node = copy_graph.find_letter_in_implies(node.name)\n",
    "        copy_rule = self.get_copy_rule(node, rule, copy_node, copy_graph)      \n",
    "        copy_mirror = copy_node.xor_dic[copy_rule]\n",
    "        if step == 1:\n",
    "            self.del_rule_in_childs(copy_mirror, copy_rule)\n",
    "        if step == 2:\n",
    "            self.del_rule_in_childs(copy_node, copy_rule)\n",
    "        if step == 3:\n",
    "            pass\n",
    "        if step == 4:\n",
    "            self.del_rule_in_childs(copy_mirror, copy_rule)\n",
    "            self.del_rule_in_childs(copy_node, copy_rule)\n",
    "        \n",
    "        copy_mirror.xor_dic.pop(copy_rule)\n",
    "        copy_node.xor_dic.pop(copy_rule)\n",
    "    \n",
    "    def del_rule_in_childs(self, node, rule):\n",
    "        if type(node).__name__ == \"Node_letter\":\n",
    "            for index in range(0, len(node.childs_pos)):\n",
    "                if node.childs_pos[index] == rule:\n",
    "                    del node.childs_pos[index]\n",
    "                    return\n",
    "        else:\n",
    "            self.delete_recursively_rule(node, rule)\n",
    "\n",
    "    def delete_recursively_rule(self, node, rule):\n",
    "        if node:\n",
    "            if type(node).__name__ == \"Node_letter\":\n",
    "                self.del_rule_in_childs(node, rule)\n",
    "            if type(node).__name__ == \"Node_condition\":\n",
    "                self.delete_recursively_rule(node.left, rule)\n",
    "                self.delete_recursively_rule(node.right, rule)\n",
    "                \n",
    "    def add_recursively_rule(self, mirror, rule):\n",
    "        if node:\n",
    "            if type(node).__name__ == \"Node_letter\":\n",
    "                node.childs_pos.append(rule)\n",
    "            if type(node).__name__ == \"Node_condition\":\n",
    "                self.add_recursively_rule(node.left, rule)\n",
    "                self.add_recursively_rule(node.right, rule)\n",
    "                \n",
    "    def get_copy_rule(self, true_node, true_rule, copy_node, copy_graph):\n",
    "        for index in range(0, len(true_node.childs_pos)):\n",
    "            if true_node.childs_pos[index] == true_rule:\n",
    "                return copy_node.childs_pos[index]\n",
    "        print('error_rule_not_found', hex(id(true_rule)), hex(id(copy_node)), len(true_node.childs_pos))\n",
    "        return "
   ]
  },
  {
   "cell_type": "code",
   "execution_count": 360,
   "metadata": {},
   "outputs": [
    {
     "name": "stdout",
     "output_type": "stream",
     "text": [
      "16\n"
     ]
    }
   ],
   "source": [
    "print(len(graph.list_copy))"
   ]
  },
  {
   "cell_type": "code",
   "execution_count": 380,
   "metadata": {},
   "outputs": [
    {
     "name": "stdout",
     "output_type": "stream",
     "text": [
      "{'B': True, 'C': True, 'D': True, 'F': True}\n",
      "{'B': True, 'C': False, 'D': False, 'F': True}\n",
      "{'B': False, 'C': True, 'D': False, 'F': True}\n",
      "{'B': False, 'C': False, 'D': True, 'F': True}\n",
      "B is IND\n",
      "C is IND\n",
      "F is True\n"
     ]
    }
   ],
   "source": [
    "# rule1 = \"A => (C ^ B) + E\"\n",
    "# rule2 = \"F => D ^ (B ^ C)\"\n",
    "rule1 = \"A => B ^ (C ^ D)\"\n",
    "# rule2 = \"A => D ^ E\"\n",
    "rule3 = \" B ^ (C ^ D) => F\"\n",
    "\n",
    "true_facts = \"A\"\n",
    "\n",
    "queries = \"BCF\"\n",
    "try:\n",
    "    graph = Graph()\n",
    "    \n",
    "    graph.add_new_AST(Parser(Lexer(rule1)).parse())\n",
    "#     graph.add_new_AST(Parser(Lexer(rule2)).parse())\n",
    "    graph.add_new_AST(Parser(Lexer(rule3)).parse())\n",
    "    \n",
    "    graph.learn_facts(true_facts)\n",
    "    for node in graph.implies_list:\n",
    "        graph.set_facts(node)\n",
    "    \n",
    "    if graph.incoherent == 0:\n",
    "        graph.resolve_simple()\n",
    "    else:\n",
    "        graph.resolve_complex()\n",
    "    \n",
    "    for query in queries:\n",
    "        graph.query(query)\n",
    "    \n",
    "except Exception as e:\n",
    "    print(e)"
   ]
  },
  {
   "cell_type": "code",
   "execution_count": 358,
   "metadata": {},
   "outputs": [
    {
     "name": "stdout",
     "output_type": "stream",
     "text": [
      "0\n",
      "1\n",
      "2\n",
      "3\n",
      "4\n",
      "6\n",
      "7\n",
      "8\n",
      "9\n"
     ]
    }
   ],
   "source": [
    "for i in range(0, 10):\n",
    "    if i == 5:\n",
    "        continue\n",
    "    print(i)"
   ]
  },
  {
   "cell_type": "code",
   "execution_count": 12,
   "metadata": {},
   "outputs": [
    {
     "name": "stdout",
     "output_type": "stream",
     "text": [
      "Node_letter(Token(LETTER, B))\n",
      "Node_letter(Token(LETTER, C))\n",
      "Node_letter(Token(LETTER, G))\n",
      "Node_letter(Token(LETTER, F))\n",
      "\n",
      "ici Node_letter(Token(LETTER, A))\n",
      "\n",
      "dict_keys([<xs_node.Node_letter object at 0x102fb7550>])\n"
     ]
    }
   ],
   "source": [
    "for node in graph.implies_list:\n",
    "    print(node)\n",
    "print()\n",
    "for node in graph.implies_list[0].childs_pos:\n",
    "    if node in graph.implies_list[0].xor_dic:\n",
    "        print(\"ici\", node)\n",
    "    else:\n",
    "        print(\"pas ici\", node)\n",
    "print()\n",
    "# print(graph.implies_list[2].childs_pos)\n",
    "print(graph.implies_list[0].xor_dic.keys())"
   ]
  },
  {
   "cell_type": "code",
   "execution_count": 45,
   "metadata": {},
   "outputs": [],
   "source": [
    "import copy"
   ]
  },
  {
   "cell_type": "code",
   "execution_count": 47,
   "metadata": {},
   "outputs": [
    {
     "name": "stdout",
     "output_type": "stream",
     "text": [
      "<__main__.Graph object at 0x1042540f0>\n",
      "[<xs_node.Node_letter object at 0x1041b4e10>, <xs_node.Node_letter object at 0x1041b49e8>, <xs_node.Node_letter object at 0x1041b4c18>]\n",
      "<__main__.Graph object at 0x1041ce390>\n",
      "[<xs_node.Node_letter object at 0x1041ce278>, <xs_node.Node_letter object at 0x1041b4240>, <xs_node.Node_letter object at 0x1041b42b0>]\n"
     ]
    }
   ],
   "source": [
    "print(graph)\n",
    "print(graph.implies_list)\n",
    "\n",
    "t = copy.deepcopy(graph)\n",
    "print(t)\n",
    "print(t.implies_list)"
   ]
  },
  {
   "cell_type": "code",
   "execution_count": 21,
   "metadata": {},
   "outputs": [
    {
     "name": "stdout",
     "output_type": "stream",
     "text": [
      "Node_letter(Token(LETTER, F))\n",
      "\n",
      "Node_letter(Token(LETTER, A))\n",
      "Node_letter(Token(LETTER, F))\n"
     ]
    }
   ],
   "source": [
    "t = copy.copy(graph.implies_list[0])\n",
    "\n",
    "# for x in t:\n",
    "print(x)\n",
    "print()\n",
    "for x in graph.implies_list[0].childs_pos:\n",
    "    print(x)\n"
   ]
  },
  {
   "cell_type": "code",
   "execution_count": 37,
   "metadata": {},
   "outputs": [],
   "source": [
    "dic = {}\n",
    "dic['a'] = \"b\"\n",
    "dic['c'] = \"d\""
   ]
  },
  {
   "cell_type": "code",
   "execution_count": 41,
   "metadata": {},
   "outputs": [
    {
     "name": "stdout",
     "output_type": "stream",
     "text": [
      "b\n",
      "d\n"
     ]
    }
   ],
   "source": [
    "for i in dic.values():\n",
    "    print(i)"
   ]
  },
  {
   "cell_type": "code",
   "execution_count": 35,
   "metadata": {},
   "outputs": [
    {
     "data": {
      "text/plain": [
       "<function dict.keys>"
      ]
     },
     "execution_count": 35,
     "metadata": {},
     "output_type": "execute_result"
    }
   ],
   "source": [
    "dic.keys"
   ]
  },
  {
   "cell_type": "code",
   "execution_count": 315,
   "metadata": {},
   "outputs": [
    {
     "data": {
      "text/plain": [
       "<__main__.Graph at 0x111f0f780>"
      ]
     },
     "execution_count": 315,
     "metadata": {},
     "output_type": "execute_result"
    }
   ],
   "source": [
    "a = [1, 2]\n",
    "t = {}\n",
    "t[a[0]] = 10\n",
    "t[a[1]] = 15\n",
    "graph"
   ]
  },
  {
   "cell_type": "code",
   "execution_count": 316,
   "metadata": {},
   "outputs": [
    {
     "name": "stdout",
     "output_type": "stream",
     "text": [
      "{1: 10, 2: 15}\n",
      "[1, 2]\n"
     ]
    }
   ],
   "source": [
    "print(t)\n",
    "print(a)"
   ]
  },
  {
   "cell_type": "code",
   "execution_count": 317,
   "metadata": {},
   "outputs": [
    {
     "name": "stdout",
     "output_type": "stream",
     "text": [
      "1 10\n",
      "2 15\n"
     ]
    }
   ],
   "source": [
    "for k, v in t.items():\n",
    "    print(k, v)"
   ]
  },
  {
   "cell_type": "code",
   "execution_count": 318,
   "metadata": {},
   "outputs": [
    {
     "data": {
      "text/plain": [
       "{1: 10, 2: 15}"
      ]
     },
     "execution_count": 318,
     "metadata": {},
     "output_type": "execute_result"
    }
   ],
   "source": [
    "t"
   ]
  },
  {
   "cell_type": "code",
   "execution_count": 319,
   "metadata": {},
   "outputs": [],
   "source": [
    "tt = None"
   ]
  },
  {
   "cell_type": "code",
   "execution_count": 321,
   "metadata": {},
   "outputs": [
    {
     "name": "stdout",
     "output_type": "stream",
     "text": [
      "ici\n"
     ]
    }
   ],
   "source": [
    "if tt not in t:\n",
    "    print('ici')"
   ]
  },
  {
   "cell_type": "code",
   "execution_count": null,
   "metadata": {},
   "outputs": [],
   "source": []
  }
 ],
 "metadata": {
  "kernelspec": {
   "display_name": "Python 3",
   "language": "python",
   "name": "python3"
  },
  "language_info": {
   "codemirror_mode": {
    "name": "ipython",
    "version": 3
   },
   "file_extension": ".py",
   "mimetype": "text/x-python",
   "name": "python",
   "nbconvert_exporter": "python",
   "pygments_lexer": "ipython3",
   "version": "3.6.4"
  }
 },
 "nbformat": 4,
 "nbformat_minor": 2
}
