{
 "cells": [
  {
   "cell_type": "code",
   "execution_count": 1,
   "metadata": {},
   "outputs": [],
   "source": [
    "from xs_lexer import Lexer\n",
    "from xs_parser import Parser\n",
    "import copy\n",
    "# from xs_node import Node_letter, Node_condition"
   ]
  },
  {
   "cell_type": "code",
   "execution_count": 2,
   "metadata": {},
   "outputs": [],
   "source": [
    "class Node_letter(object):\n",
    "\n",
    "    def __init__(self, token, name):\n",
    "        self.token = token\n",
    "        self.name = name\n",
    "        self.state = 0\n",
    "        self.neg = 0\n",
    "        self.childs_pos = []\n",
    "        self.childs_neg = []\n",
    "        self.visited = 0\n",
    "        self.or_dic = {}\n",
    "        self.xor_dic = {}\n",
    "        self.ind = 0\n",
    "\n",
    "    def __str__(self):\n",
    "        return \"Node_letter({})\".format(self.token)\n",
    "\n",
    "\n",
    "class Node_condition(object):\n",
    "\n",
    "    def __init__(self, left, cond, right):\n",
    "        self.left = left\n",
    "        self.token = self.cond = cond\n",
    "        self.right = right\n",
    "        self.neg = 0\n",
    "        self.visited = 0\n",
    "        self.or_dic = {}\n",
    "        self.xor_dic = {}\n",
    "        self.ind = 0\n",
    "\n",
    "    def __str__(self):\n",
    "        return \"Node_condition({}\".format(self.token)"
   ]
  },
  {
   "cell_type": "code",
   "execution_count": 3,
   "metadata": {},
   "outputs": [],
   "source": [
    "class Interpreter(object):\n",
    "\n",
    "    def __init__(self):\n",
    "        self.graph_list = {}\n",
    "        self.all_histories = []\n",
    "        pass\n",
    "\n",
    "    def interpret(self, node, graph):\n",
    "        if node:\n",
    "            if type(node).__name__ == \"Node_condition\":\n",
    "                return abs(self.apply_logical(node, node.left,\n",
    "                           node.right, graph) - node.neg)\n",
    "            node.visited = 1 \n",
    "            if type(node).__name__ == \"Node_letter\":\n",
    "                implies_node = graph.find_letter_in_implies(node.name)\n",
    "                if implies_node:\n",
    "                    for child in implies_node.childs_pos:\n",
    "                        if child.visited == 0:\n",
    "                            if self.interpret(child, graph) == 1:\n",
    "                                node.state = 1 \n",
    "                    for child in implies_node.childs_neg:\n",
    "                        if child.visited == 0:\n",
    "                            if self.interpret(child, graph) == 1:\n",
    "                                node.state = 0 \n",
    "                node.visited = 0 \n",
    "                return abs(node.state - node.neg)\n",
    "\n",
    "    def apply_logical(self, node, left, right, graph):\n",
    "        if node.token.type == \"AND\":\n",
    "            return self.interpret(left, graph) & self.interpret(right, graph)\n",
    "        if node.token.type == \"OR\":\n",
    "            return self.interpret(left, graph) | self.interpret(right, graph)\n",
    "        if node.token.type == \"XOR\":\n",
    "            return self.interpret(left, graph) ^ self.interpret(right, graph)"
   ]
  },
  {
   "cell_type": "code",
   "execution_count": 4,
   "metadata": {},
   "outputs": [
    {
     "name": "stdout",
     "output_type": "stream",
     "text": [
      "name 'Graph' is not defined\n"
     ]
    }
   ],
   "source": [
    "# rule1 = \"A => (C ^ B) + E\"\n",
    "# rule2 = \"F => D ^ (B ^ C)\"\n",
    "rule1 = \"A => B ^ C \" # A => B et A => C\n",
    "# rule2 = \"D => G ^ E\"\n",
    "rule3 = \"C ^ E => F\"\n",
    "\n",
    "true_facts = \"AD\"\n",
    "\n",
    "queries = \"BCF\"\n",
    "try:\n",
    "    graph = Graph()\n",
    "    \n",
    "    graph.add_new_AST(Parser(Lexer(rule1)).parse())\n",
    "#     graph.add_new_AST(Parser(Lexer(rule2)).parse())\n",
    "    graph.add_new_AST(Parser(Lexer(rule3)).parse())\n",
    "    \n",
    "    graph.learn_facts(true_facts)\n",
    "    for node in graph.implies_list:\n",
    "        graph.set_facts(node)\n",
    "    if graph.incoherent == 0:\n",
    "        graph.resolve_simple()\n",
    "    else:\n",
    "        graph.resolve_complex()\n",
    "\n",
    "    for query in queries:\n",
    "        graph.query(query)\n",
    "    \n",
    "except Exception as e:\n",
    "    print(e)"
   ]
  },
  {
   "cell_type": "code",
   "execution_count": 5,
   "metadata": {},
   "outputs": [
    {
     "ename": "NameError",
     "evalue": "name 'graph' is not defined",
     "output_type": "error",
     "traceback": [
      "\u001b[0;31m---------------------------------------------------------------------------\u001b[0m",
      "\u001b[0;31mNameError\u001b[0m                                 Traceback (most recent call last)",
      "\u001b[0;32m<ipython-input-5-bc659b087a00>\u001b[0m in \u001b[0;36m<module>\u001b[0;34m\u001b[0m\n\u001b[0;32m----> 1\u001b[0;31m \u001b[0;32mfor\u001b[0m \u001b[0mnode\u001b[0m \u001b[0;32min\u001b[0m \u001b[0mgraph\u001b[0m\u001b[0;34m.\u001b[0m\u001b[0mimplies_list\u001b[0m\u001b[0;34m:\u001b[0m\u001b[0;34m\u001b[0m\u001b[0;34m\u001b[0m\u001b[0m\n\u001b[0m\u001b[1;32m      2\u001b[0m     \u001b[0mprint\u001b[0m\u001b[0;34m(\u001b[0m\u001b[0mnode\u001b[0m\u001b[0;34m)\u001b[0m\u001b[0;34m\u001b[0m\u001b[0;34m\u001b[0m\u001b[0m\n\u001b[1;32m      3\u001b[0m \u001b[0mprint\u001b[0m\u001b[0;34m(\u001b[0m\u001b[0;34m)\u001b[0m\u001b[0;34m\u001b[0m\u001b[0;34m\u001b[0m\u001b[0m\n\u001b[1;32m      4\u001b[0m \u001b[0;32mfor\u001b[0m \u001b[0mnode\u001b[0m \u001b[0;32min\u001b[0m \u001b[0mgraph\u001b[0m\u001b[0;34m.\u001b[0m\u001b[0mimplies_list\u001b[0m\u001b[0;34m[\u001b[0m\u001b[0;36m0\u001b[0m\u001b[0;34m]\u001b[0m\u001b[0;34m.\u001b[0m\u001b[0mchilds_pos\u001b[0m\u001b[0;34m:\u001b[0m\u001b[0;34m\u001b[0m\u001b[0;34m\u001b[0m\u001b[0m\n\u001b[1;32m      5\u001b[0m     \u001b[0mprint\u001b[0m\u001b[0;34m(\u001b[0m\u001b[0mhex\u001b[0m\u001b[0;34m(\u001b[0m\u001b[0mid\u001b[0m\u001b[0;34m(\u001b[0m\u001b[0mnode\u001b[0m\u001b[0;34m)\u001b[0m\u001b[0;34m)\u001b[0m\u001b[0;34m)\u001b[0m\u001b[0;34m\u001b[0m\u001b[0;34m\u001b[0m\u001b[0m\n",
      "\u001b[0;31mNameError\u001b[0m: name 'graph' is not defined"
     ]
    }
   ],
   "source": [
    "for node in graph.implies_list:\n",
    "    print(node)\n",
    "print()\n",
    "for node in graph.implies_list[0].childs_pos:\n",
    "    print(hex(id(node)))"
   ]
  },
  {
   "cell_type": "code",
   "execution_count": 266,
   "metadata": {},
   "outputs": [
    {
     "name": "stdout",
     "output_type": "stream",
     "text": [
      "trigg\n",
      "Node_condition(Token(XOR, ^) 0x10c7fe160 Node_condition(Token(XOR, ^) 0x11846e7b8 0 {<xs_node.Node_letter object at 0x10c7fe080>: <xs_node.Node_condition object at 0x11846e7b8>} {<xs_node.Node_letter object at 0x10c7fe080>: <xs_node.Node_condition object at 0x10c7fe160>}\n",
      "ici1\n",
      "Node_letter(Token(LETTER, C)) 0x119415b38 Node_letter(Token(LETTER, D)) 0x119415400 3 {<xs_node.Node_letter object at 0x119415a58>: <xs_node.Node_letter object at 0x119415400>} {<xs_node.Node_letter object at 0x119415a58>: <xs_node.Node_letter object at 0x119415b38>}\n",
      "Node_letter(Token(LETTER, C)) Node_letter(Token(LETTER, D)) Node_letter(Token(LETTER, A))\n",
      "Node_letter(Token(LETTER, C)) 0x11927ff60 Node_letter(Token(LETTER, D)) 0x11927fc18 0 {<xs_node.Node_letter object at 0x11927fe10>: <xs_node.Node_letter object at 0x11927fc18>} {<xs_node.Node_letter object at 0x11927fe10>: <xs_node.Node_letter object at 0x11927ff60>}\n",
      "Node_letter(Token(LETTER, E)) 0x10ecf90f0 Node_letter(Token(LETTER, F)) 0x10ecf9630 0 {<xs_node.Node_letter object at 0x10c84c048>: <xs_node.Node_letter object at 0x10ecf9630>} {<xs_node.Node_letter object at 0x10c84c048>: <xs_node.Node_letter object at 0x10ecf90f0>}\n"
     ]
    },
    {
     "ename": "KeyError",
     "evalue": "None",
     "output_type": "error",
     "traceback": [
      "\u001b[0;31m---------------------------------------------------------------------------\u001b[0m",
      "\u001b[0;31mKeyError\u001b[0m                                  Traceback (most recent call last)",
      "\u001b[0;32m<ipython-input-266-3cf327944895>\u001b[0m in \u001b[0;36m<module>\u001b[0;34m\u001b[0m\n\u001b[1;32m     11\u001b[0m     \u001b[0mgraph\u001b[0m\u001b[0;34m.\u001b[0m\u001b[0mresolve_simple\u001b[0m\u001b[0;34m(\u001b[0m\u001b[0;34m)\u001b[0m\u001b[0;34m\u001b[0m\u001b[0;34m\u001b[0m\u001b[0m\n\u001b[1;32m     12\u001b[0m \u001b[0;32melse\u001b[0m\u001b[0;34m:\u001b[0m\u001b[0;34m\u001b[0m\u001b[0;34m\u001b[0m\u001b[0m\n\u001b[0;32m---> 13\u001b[0;31m     \u001b[0mgraph\u001b[0m\u001b[0;34m.\u001b[0m\u001b[0mresolve_complex\u001b[0m\u001b[0;34m(\u001b[0m\u001b[0;34m)\u001b[0m\u001b[0;34m\u001b[0m\u001b[0;34m\u001b[0m\u001b[0m\n\u001b[0m\u001b[1;32m     14\u001b[0m \u001b[0;32mfor\u001b[0m \u001b[0mquery\u001b[0m \u001b[0;32min\u001b[0m \u001b[0mqueries\u001b[0m\u001b[0;34m:\u001b[0m\u001b[0;34m\u001b[0m\u001b[0;34m\u001b[0m\u001b[0m\n\u001b[1;32m     15\u001b[0m     \u001b[0mgraph\u001b[0m\u001b[0;34m.\u001b[0m\u001b[0mquery\u001b[0m\u001b[0;34m(\u001b[0m\u001b[0mquery\u001b[0m\u001b[0;34m)\u001b[0m\u001b[0;34m\u001b[0m\u001b[0;34m\u001b[0m\u001b[0m\n",
      "\u001b[0;32m<ipython-input-263-45a221f4ab03>\u001b[0m in \u001b[0;36mresolve_complex\u001b[0;34m(self)\u001b[0m\n\u001b[1;32m    138\u001b[0m \u001b[0;34m\u001b[0m\u001b[0m\n\u001b[1;32m    139\u001b[0m     \u001b[0;32mdef\u001b[0m \u001b[0mresolve_complex\u001b[0m\u001b[0;34m(\u001b[0m\u001b[0mself\u001b[0m\u001b[0;34m)\u001b[0m\u001b[0;34m:\u001b[0m\u001b[0;34m\u001b[0m\u001b[0;34m\u001b[0m\u001b[0m\n\u001b[0;32m--> 140\u001b[0;31m         \u001b[0mself\u001b[0m\u001b[0;34m.\u001b[0m\u001b[0mcheck_ind_rules\u001b[0m\u001b[0;34m(\u001b[0m\u001b[0mself\u001b[0m\u001b[0;34m,\u001b[0m \u001b[0mself\u001b[0m\u001b[0;34m,\u001b[0m \u001b[0;32mNone\u001b[0m\u001b[0;34m,\u001b[0m \u001b[0;36m0\u001b[0m\u001b[0;34m)\u001b[0m\u001b[0;34m\u001b[0m\u001b[0;34m\u001b[0m\u001b[0m\n\u001b[0m\u001b[1;32m    141\u001b[0m         \u001b[0mself\u001b[0m\u001b[0;34m.\u001b[0m\u001b[0mtmp_history\u001b[0m \u001b[0;34m=\u001b[0m \u001b[0;34m{\u001b[0m\u001b[0;34m}\u001b[0m\u001b[0;34m\u001b[0m\u001b[0;34m\u001b[0m\u001b[0m\n\u001b[1;32m    142\u001b[0m         \u001b[0;32mfor\u001b[0m \u001b[0mcopy_graph\u001b[0m \u001b[0;32min\u001b[0m \u001b[0mself\u001b[0m\u001b[0;34m.\u001b[0m\u001b[0mlist_copy\u001b[0m\u001b[0;34m:\u001b[0m\u001b[0;34m\u001b[0m\u001b[0;34m\u001b[0m\u001b[0m\n",
      "\u001b[0;32m<ipython-input-263-45a221f4ab03>\u001b[0m in \u001b[0;36mcheck_ind_rules\u001b[0;34m(self, origin_graph, current_graph, prev_rule, prev_case)\u001b[0m\n\u001b[1;32m    237\u001b[0m \u001b[0;34m\u001b[0m\u001b[0m\n\u001b[1;32m    238\u001b[0m         \u001b[0;32mfor\u001b[0m \u001b[0mnode\u001b[0m \u001b[0;32min\u001b[0m \u001b[0mcurrent_graph\u001b[0m\u001b[0;34m.\u001b[0m\u001b[0mast_list\u001b[0m\u001b[0;34m:\u001b[0m\u001b[0;34m\u001b[0m\u001b[0;34m\u001b[0m\u001b[0m\n\u001b[0;32m--> 239\u001b[0;31m             \u001b[0mtot\u001b[0m \u001b[0;34m=\u001b[0m \u001b[0mself\u001b[0m\u001b[0;34m.\u001b[0m\u001b[0mcrawl_ast\u001b[0m\u001b[0;34m(\u001b[0m\u001b[0mnode\u001b[0m\u001b[0;34m,\u001b[0m \u001b[0morigin_graph\u001b[0m\u001b[0;34m,\u001b[0m \u001b[0mcurrent_graph\u001b[0m\u001b[0;34m,\u001b[0m \u001b[0mprev_rule\u001b[0m\u001b[0;34m,\u001b[0m \u001b[0mprev_case\u001b[0m\u001b[0;34m)\u001b[0m\u001b[0;34m\u001b[0m\u001b[0;34m\u001b[0m\u001b[0m\n\u001b[0m\u001b[1;32m    240\u001b[0m \u001b[0;31m#             for rule, mirror in node.xor_dic.items():\u001b[0m\u001b[0;34m\u001b[0m\u001b[0;34m\u001b[0m\u001b[0;34m\u001b[0m\u001b[0m\n\u001b[1;32m    241\u001b[0m \u001b[0;31m#                 tot += 1\u001b[0m\u001b[0;34m\u001b[0m\u001b[0;34m\u001b[0m\u001b[0;34m\u001b[0m\u001b[0m\n",
      "\u001b[0;32m<ipython-input-263-45a221f4ab03>\u001b[0m in \u001b[0;36mcrawl_ast\u001b[0;34m(self, node, origin_graph, current_graph, prev_rule, prev_case)\u001b[0m\n\u001b[1;32m    259\u001b[0m \u001b[0;34m\u001b[0m\u001b[0m\n\u001b[1;32m    260\u001b[0m             \u001b[0;32mif\u001b[0m \u001b[0mtype\u001b[0m\u001b[0;34m(\u001b[0m\u001b[0mnode\u001b[0m\u001b[0;34m)\u001b[0m\u001b[0;34m.\u001b[0m\u001b[0m__name__\u001b[0m \u001b[0;34m==\u001b[0m \u001b[0;34m\"Node_condition\"\u001b[0m\u001b[0;34m:\u001b[0m\u001b[0;34m\u001b[0m\u001b[0;34m\u001b[0m\u001b[0m\n\u001b[0;32m--> 261\u001b[0;31m                 \u001b[0;32mif\u001b[0m \u001b[0mself\u001b[0m\u001b[0;34m.\u001b[0m\u001b[0mcrawl_ast\u001b[0m\u001b[0;34m(\u001b[0m\u001b[0mnode\u001b[0m\u001b[0;34m.\u001b[0m\u001b[0mleft\u001b[0m\u001b[0;34m,\u001b[0m \u001b[0morigin_graph\u001b[0m\u001b[0;34m,\u001b[0m \u001b[0mcurrent_graph\u001b[0m\u001b[0;34m,\u001b[0m \u001b[0mprev_rule\u001b[0m\u001b[0;34m,\u001b[0m \u001b[0mprev_case\u001b[0m\u001b[0;34m)\u001b[0m \u001b[0;34m==\u001b[0m \u001b[0;36m1\u001b[0m\u001b[0;34m:\u001b[0m\u001b[0;34m\u001b[0m\u001b[0;34m\u001b[0m\u001b[0m\n\u001b[0m\u001b[1;32m    262\u001b[0m                     \u001b[0;32mreturn\u001b[0m \u001b[0;36m1\u001b[0m\u001b[0;34m\u001b[0m\u001b[0;34m\u001b[0m\u001b[0m\n\u001b[1;32m    263\u001b[0m                 \u001b[0;32mreturn\u001b[0m \u001b[0mself\u001b[0m\u001b[0;34m.\u001b[0m\u001b[0mcrawl_ast\u001b[0m\u001b[0;34m(\u001b[0m\u001b[0mnode\u001b[0m\u001b[0;34m.\u001b[0m\u001b[0mright\u001b[0m\u001b[0;34m,\u001b[0m \u001b[0morigin_graph\u001b[0m\u001b[0;34m,\u001b[0m \u001b[0mcurrent_graph\u001b[0m\u001b[0;34m,\u001b[0m \u001b[0mprev_rule\u001b[0m\u001b[0;34m,\u001b[0m \u001b[0mprev_case\u001b[0m\u001b[0;34m)\u001b[0m\u001b[0;34m\u001b[0m\u001b[0;34m\u001b[0m\u001b[0m\n",
      "\u001b[0;32m<ipython-input-263-45a221f4ab03>\u001b[0m in \u001b[0;36mcrawl_ast\u001b[0;34m(self, node, origin_graph, current_graph, prev_rule, prev_case)\u001b[0m\n\u001b[1;32m    252\u001b[0m         \u001b[0;32mif\u001b[0m \u001b[0mnode\u001b[0m\u001b[0;34m:\u001b[0m\u001b[0;34m\u001b[0m\u001b[0;34m\u001b[0m\u001b[0m\n\u001b[1;32m    253\u001b[0m             \u001b[0;32mfor\u001b[0m \u001b[0mrule\u001b[0m\u001b[0;34m,\u001b[0m \u001b[0mmirror\u001b[0m \u001b[0;32min\u001b[0m \u001b[0mnode\u001b[0m\u001b[0;34m.\u001b[0m\u001b[0mxor_dic\u001b[0m\u001b[0;34m.\u001b[0m\u001b[0mitems\u001b[0m\u001b[0;34m(\u001b[0m\u001b[0;34m)\u001b[0m\u001b[0;34m:\u001b[0m\u001b[0;34m\u001b[0m\u001b[0;34m\u001b[0m\u001b[0m\n\u001b[0;32m--> 254\u001b[0;31m                 \u001b[0mself\u001b[0m\u001b[0;34m.\u001b[0m\u001b[0mhandle_xor\u001b[0m\u001b[0;34m(\u001b[0m\u001b[0morigin_graph\u001b[0m\u001b[0;34m,\u001b[0m \u001b[0mcurrent_graph\u001b[0m\u001b[0;34m,\u001b[0m \u001b[0mprev_rule\u001b[0m\u001b[0;34m,\u001b[0m \u001b[0mprev_case\u001b[0m\u001b[0;34m,\u001b[0m \u001b[0mnode\u001b[0m\u001b[0;34m,\u001b[0m \u001b[0mrule\u001b[0m\u001b[0;34m,\u001b[0m \u001b[0mmirror\u001b[0m\u001b[0;34m)\u001b[0m\u001b[0;34m\u001b[0m\u001b[0;34m\u001b[0m\u001b[0m\n\u001b[0m\u001b[1;32m    255\u001b[0m                 \u001b[0;32mreturn\u001b[0m \u001b[0;36m1\u001b[0m\u001b[0;34m\u001b[0m\u001b[0;34m\u001b[0m\u001b[0m\n\u001b[1;32m    256\u001b[0m             \u001b[0;32mfor\u001b[0m \u001b[0mrule\u001b[0m\u001b[0;34m,\u001b[0m \u001b[0mmirror\u001b[0m \u001b[0;32min\u001b[0m \u001b[0mnode\u001b[0m\u001b[0;34m.\u001b[0m\u001b[0mor_dic\u001b[0m\u001b[0;34m.\u001b[0m\u001b[0mitems\u001b[0m\u001b[0;34m(\u001b[0m\u001b[0;34m)\u001b[0m\u001b[0;34m:\u001b[0m\u001b[0;34m\u001b[0m\u001b[0;34m\u001b[0m\u001b[0m\n",
      "\u001b[0;32m<ipython-input-263-45a221f4ab03>\u001b[0m in \u001b[0;36mhandle_xor\u001b[0;34m(self, origin_graph, current_graph, prev_rule, prev_case, node, rule, mirror)\u001b[0m\n\u001b[1;32m    165\u001b[0m             \u001b[0mcopy_rule_1\u001b[0m \u001b[0;34m=\u001b[0m \u001b[0mself\u001b[0m\u001b[0;34m.\u001b[0m\u001b[0mset_special_xor\u001b[0m\u001b[0;34m(\u001b[0m\u001b[0mrule\u001b[0m\u001b[0;34m,\u001b[0m \u001b[0mnode\u001b[0m\u001b[0;34m,\u001b[0m \u001b[0mcurrent_graph\u001b[0m\u001b[0;34m,\u001b[0m \u001b[0mcopy_graph_1\u001b[0m\u001b[0;34m,\u001b[0m \u001b[0;36m1\u001b[0m\u001b[0;34m)\u001b[0m\u001b[0;34m\u001b[0m\u001b[0;34m\u001b[0m\u001b[0m\n\u001b[1;32m    166\u001b[0m             \u001b[0mprint\u001b[0m\u001b[0;34m(\u001b[0m\u001b[0;34m'ici1'\u001b[0m\u001b[0;34m)\u001b[0m\u001b[0;34m\u001b[0m\u001b[0;34m\u001b[0m\u001b[0m\n\u001b[0;32m--> 167\u001b[0;31m             \u001b[0mself\u001b[0m\u001b[0;34m.\u001b[0m\u001b[0mcheck_ind_rules\u001b[0m\u001b[0;34m(\u001b[0m\u001b[0morigin_graph\u001b[0m\u001b[0;34m,\u001b[0m \u001b[0mcopy_graph_1\u001b[0m\u001b[0;34m,\u001b[0m \u001b[0mcopy_rule_1\u001b[0m\u001b[0;34m,\u001b[0m \u001b[0mcase\u001b[0m\u001b[0;34m)\u001b[0m\u001b[0;34m\u001b[0m\u001b[0;34m\u001b[0m\u001b[0m\n\u001b[0m\u001b[1;32m    168\u001b[0m             \u001b[0mcopy_rule_2\u001b[0m \u001b[0;34m=\u001b[0m \u001b[0mself\u001b[0m\u001b[0;34m.\u001b[0m\u001b[0mset_special_xor\u001b[0m\u001b[0;34m(\u001b[0m\u001b[0mrule\u001b[0m\u001b[0;34m,\u001b[0m \u001b[0mnode\u001b[0m\u001b[0;34m,\u001b[0m \u001b[0mcurrent_graph\u001b[0m\u001b[0;34m,\u001b[0m \u001b[0mcopy_graph_2\u001b[0m\u001b[0;34m,\u001b[0m \u001b[0;36m2\u001b[0m\u001b[0;34m)\u001b[0m\u001b[0;34m\u001b[0m\u001b[0;34m\u001b[0m\u001b[0m\n\u001b[1;32m    169\u001b[0m             \u001b[0mprint\u001b[0m\u001b[0;34m(\u001b[0m\u001b[0;34m'ici2'\u001b[0m\u001b[0;34m)\u001b[0m\u001b[0;34m\u001b[0m\u001b[0;34m\u001b[0m\u001b[0m\n",
      "\u001b[0;32m<ipython-input-263-45a221f4ab03>\u001b[0m in \u001b[0;36mcheck_ind_rules\u001b[0;34m(self, origin_graph, current_graph, prev_rule, prev_case)\u001b[0m\n\u001b[1;32m    237\u001b[0m \u001b[0;34m\u001b[0m\u001b[0m\n\u001b[1;32m    238\u001b[0m         \u001b[0;32mfor\u001b[0m \u001b[0mnode\u001b[0m \u001b[0;32min\u001b[0m \u001b[0mcurrent_graph\u001b[0m\u001b[0;34m.\u001b[0m\u001b[0mast_list\u001b[0m\u001b[0;34m:\u001b[0m\u001b[0;34m\u001b[0m\u001b[0;34m\u001b[0m\u001b[0m\n\u001b[0;32m--> 239\u001b[0;31m             \u001b[0mtot\u001b[0m \u001b[0;34m=\u001b[0m \u001b[0mself\u001b[0m\u001b[0;34m.\u001b[0m\u001b[0mcrawl_ast\u001b[0m\u001b[0;34m(\u001b[0m\u001b[0mnode\u001b[0m\u001b[0;34m,\u001b[0m \u001b[0morigin_graph\u001b[0m\u001b[0;34m,\u001b[0m \u001b[0mcurrent_graph\u001b[0m\u001b[0;34m,\u001b[0m \u001b[0mprev_rule\u001b[0m\u001b[0;34m,\u001b[0m \u001b[0mprev_case\u001b[0m\u001b[0;34m)\u001b[0m\u001b[0;34m\u001b[0m\u001b[0;34m\u001b[0m\u001b[0m\n\u001b[0m\u001b[1;32m    240\u001b[0m \u001b[0;31m#             for rule, mirror in node.xor_dic.items():\u001b[0m\u001b[0;34m\u001b[0m\u001b[0;34m\u001b[0m\u001b[0;34m\u001b[0m\u001b[0m\n\u001b[1;32m    241\u001b[0m \u001b[0;31m#                 tot += 1\u001b[0m\u001b[0;34m\u001b[0m\u001b[0;34m\u001b[0m\u001b[0;34m\u001b[0m\u001b[0m\n",
      "\u001b[0;32m<ipython-input-263-45a221f4ab03>\u001b[0m in \u001b[0;36mcrawl_ast\u001b[0;34m(self, node, origin_graph, current_graph, prev_rule, prev_case)\u001b[0m\n\u001b[1;32m    259\u001b[0m \u001b[0;34m\u001b[0m\u001b[0m\n\u001b[1;32m    260\u001b[0m             \u001b[0;32mif\u001b[0m \u001b[0mtype\u001b[0m\u001b[0;34m(\u001b[0m\u001b[0mnode\u001b[0m\u001b[0;34m)\u001b[0m\u001b[0;34m.\u001b[0m\u001b[0m__name__\u001b[0m \u001b[0;34m==\u001b[0m \u001b[0;34m\"Node_condition\"\u001b[0m\u001b[0;34m:\u001b[0m\u001b[0;34m\u001b[0m\u001b[0;34m\u001b[0m\u001b[0m\n\u001b[0;32m--> 261\u001b[0;31m                 \u001b[0;32mif\u001b[0m \u001b[0mself\u001b[0m\u001b[0;34m.\u001b[0m\u001b[0mcrawl_ast\u001b[0m\u001b[0;34m(\u001b[0m\u001b[0mnode\u001b[0m\u001b[0;34m.\u001b[0m\u001b[0mleft\u001b[0m\u001b[0;34m,\u001b[0m \u001b[0morigin_graph\u001b[0m\u001b[0;34m,\u001b[0m \u001b[0mcurrent_graph\u001b[0m\u001b[0;34m,\u001b[0m \u001b[0mprev_rule\u001b[0m\u001b[0;34m,\u001b[0m \u001b[0mprev_case\u001b[0m\u001b[0;34m)\u001b[0m \u001b[0;34m==\u001b[0m \u001b[0;36m1\u001b[0m\u001b[0;34m:\u001b[0m\u001b[0;34m\u001b[0m\u001b[0;34m\u001b[0m\u001b[0m\n\u001b[0m\u001b[1;32m    262\u001b[0m                     \u001b[0;32mreturn\u001b[0m \u001b[0;36m1\u001b[0m\u001b[0;34m\u001b[0m\u001b[0;34m\u001b[0m\u001b[0m\n\u001b[1;32m    263\u001b[0m                 \u001b[0;32mreturn\u001b[0m \u001b[0mself\u001b[0m\u001b[0;34m.\u001b[0m\u001b[0mcrawl_ast\u001b[0m\u001b[0;34m(\u001b[0m\u001b[0mnode\u001b[0m\u001b[0;34m.\u001b[0m\u001b[0mright\u001b[0m\u001b[0;34m,\u001b[0m \u001b[0morigin_graph\u001b[0m\u001b[0;34m,\u001b[0m \u001b[0mcurrent_graph\u001b[0m\u001b[0;34m,\u001b[0m \u001b[0mprev_rule\u001b[0m\u001b[0;34m,\u001b[0m \u001b[0mprev_case\u001b[0m\u001b[0;34m)\u001b[0m\u001b[0;34m\u001b[0m\u001b[0;34m\u001b[0m\u001b[0m\n",
      "\u001b[0;32m<ipython-input-263-45a221f4ab03>\u001b[0m in \u001b[0;36mcrawl_ast\u001b[0;34m(self, node, origin_graph, current_graph, prev_rule, prev_case)\u001b[0m\n\u001b[1;32m    259\u001b[0m \u001b[0;34m\u001b[0m\u001b[0m\n\u001b[1;32m    260\u001b[0m             \u001b[0;32mif\u001b[0m \u001b[0mtype\u001b[0m\u001b[0;34m(\u001b[0m\u001b[0mnode\u001b[0m\u001b[0;34m)\u001b[0m\u001b[0;34m.\u001b[0m\u001b[0m__name__\u001b[0m \u001b[0;34m==\u001b[0m \u001b[0;34m\"Node_condition\"\u001b[0m\u001b[0;34m:\u001b[0m\u001b[0;34m\u001b[0m\u001b[0;34m\u001b[0m\u001b[0m\n\u001b[0;32m--> 261\u001b[0;31m                 \u001b[0;32mif\u001b[0m \u001b[0mself\u001b[0m\u001b[0;34m.\u001b[0m\u001b[0mcrawl_ast\u001b[0m\u001b[0;34m(\u001b[0m\u001b[0mnode\u001b[0m\u001b[0;34m.\u001b[0m\u001b[0mleft\u001b[0m\u001b[0;34m,\u001b[0m \u001b[0morigin_graph\u001b[0m\u001b[0;34m,\u001b[0m \u001b[0mcurrent_graph\u001b[0m\u001b[0;34m,\u001b[0m \u001b[0mprev_rule\u001b[0m\u001b[0;34m,\u001b[0m \u001b[0mprev_case\u001b[0m\u001b[0;34m)\u001b[0m \u001b[0;34m==\u001b[0m \u001b[0;36m1\u001b[0m\u001b[0;34m:\u001b[0m\u001b[0;34m\u001b[0m\u001b[0;34m\u001b[0m\u001b[0m\n\u001b[0m\u001b[1;32m    262\u001b[0m                     \u001b[0;32mreturn\u001b[0m \u001b[0;36m1\u001b[0m\u001b[0;34m\u001b[0m\u001b[0;34m\u001b[0m\u001b[0m\n\u001b[1;32m    263\u001b[0m                 \u001b[0;32mreturn\u001b[0m \u001b[0mself\u001b[0m\u001b[0;34m.\u001b[0m\u001b[0mcrawl_ast\u001b[0m\u001b[0;34m(\u001b[0m\u001b[0mnode\u001b[0m\u001b[0;34m.\u001b[0m\u001b[0mright\u001b[0m\u001b[0;34m,\u001b[0m \u001b[0morigin_graph\u001b[0m\u001b[0;34m,\u001b[0m \u001b[0mcurrent_graph\u001b[0m\u001b[0;34m,\u001b[0m \u001b[0mprev_rule\u001b[0m\u001b[0;34m,\u001b[0m \u001b[0mprev_case\u001b[0m\u001b[0;34m)\u001b[0m\u001b[0;34m\u001b[0m\u001b[0;34m\u001b[0m\u001b[0m\n",
      "\u001b[0;32m<ipython-input-263-45a221f4ab03>\u001b[0m in \u001b[0;36mcrawl_ast\u001b[0;34m(self, node, origin_graph, current_graph, prev_rule, prev_case)\u001b[0m\n\u001b[1;32m    252\u001b[0m         \u001b[0;32mif\u001b[0m \u001b[0mnode\u001b[0m\u001b[0;34m:\u001b[0m\u001b[0;34m\u001b[0m\u001b[0;34m\u001b[0m\u001b[0m\n\u001b[1;32m    253\u001b[0m             \u001b[0;32mfor\u001b[0m \u001b[0mrule\u001b[0m\u001b[0;34m,\u001b[0m \u001b[0mmirror\u001b[0m \u001b[0;32min\u001b[0m \u001b[0mnode\u001b[0m\u001b[0;34m.\u001b[0m\u001b[0mxor_dic\u001b[0m\u001b[0;34m.\u001b[0m\u001b[0mitems\u001b[0m\u001b[0;34m(\u001b[0m\u001b[0;34m)\u001b[0m\u001b[0;34m:\u001b[0m\u001b[0;34m\u001b[0m\u001b[0;34m\u001b[0m\u001b[0m\n\u001b[0;32m--> 254\u001b[0;31m                 \u001b[0mself\u001b[0m\u001b[0;34m.\u001b[0m\u001b[0mhandle_xor\u001b[0m\u001b[0;34m(\u001b[0m\u001b[0morigin_graph\u001b[0m\u001b[0;34m,\u001b[0m \u001b[0mcurrent_graph\u001b[0m\u001b[0;34m,\u001b[0m \u001b[0mprev_rule\u001b[0m\u001b[0;34m,\u001b[0m \u001b[0mprev_case\u001b[0m\u001b[0;34m,\u001b[0m \u001b[0mnode\u001b[0m\u001b[0;34m,\u001b[0m \u001b[0mrule\u001b[0m\u001b[0;34m,\u001b[0m \u001b[0mmirror\u001b[0m\u001b[0;34m)\u001b[0m\u001b[0;34m\u001b[0m\u001b[0;34m\u001b[0m\u001b[0m\n\u001b[0m\u001b[1;32m    255\u001b[0m                 \u001b[0;32mreturn\u001b[0m \u001b[0;36m1\u001b[0m\u001b[0;34m\u001b[0m\u001b[0;34m\u001b[0m\u001b[0m\n\u001b[1;32m    256\u001b[0m             \u001b[0;32mfor\u001b[0m \u001b[0mrule\u001b[0m\u001b[0;34m,\u001b[0m \u001b[0mmirror\u001b[0m \u001b[0;32min\u001b[0m \u001b[0mnode\u001b[0m\u001b[0;34m.\u001b[0m\u001b[0mor_dic\u001b[0m\u001b[0;34m.\u001b[0m\u001b[0mitems\u001b[0m\u001b[0;34m(\u001b[0m\u001b[0;34m)\u001b[0m\u001b[0;34m:\u001b[0m\u001b[0;34m\u001b[0m\u001b[0;34m\u001b[0m\u001b[0m\n",
      "\u001b[0;32m<ipython-input-263-45a221f4ab03>\u001b[0m in \u001b[0;36mhandle_xor\u001b[0;34m(self, origin_graph, current_graph, prev_rule, prev_case, node, rule, mirror)\u001b[0m\n\u001b[1;32m    204\u001b[0m \u001b[0;34m\u001b[0m\u001b[0m\n\u001b[1;32m    205\u001b[0m         \u001b[0;32mif\u001b[0m \u001b[0mcase\u001b[0m \u001b[0;34m==\u001b[0m \u001b[0;36m0\u001b[0m\u001b[0;34m:\u001b[0m\u001b[0;34m\u001b[0m\u001b[0;34m\u001b[0m\u001b[0m\n\u001b[0;32m--> 206\u001b[0;31m             \u001b[0mself\u001b[0m\u001b[0;34m.\u001b[0m\u001b[0mcheck_ind_rules\u001b[0m\u001b[0;34m(\u001b[0m\u001b[0morigin_graph\u001b[0m\u001b[0;34m,\u001b[0m \u001b[0mcopy_graph_1\u001b[0m\u001b[0;34m,\u001b[0m \u001b[0mcopy_rule\u001b[0m\u001b[0;34m,\u001b[0m \u001b[0mcase\u001b[0m\u001b[0;34m)\u001b[0m\u001b[0;34m\u001b[0m\u001b[0;34m\u001b[0m\u001b[0m\n\u001b[0m\u001b[1;32m    207\u001b[0m             \u001b[0mself\u001b[0m\u001b[0;34m.\u001b[0m\u001b[0mcheck_ind_rules\u001b[0m\u001b[0;34m(\u001b[0m\u001b[0morigin_graph\u001b[0m\u001b[0;34m,\u001b[0m \u001b[0mcopy_graph_2\u001b[0m\u001b[0;34m,\u001b[0m \u001b[0mcopy_rule\u001b[0m\u001b[0;34m,\u001b[0m \u001b[0mcase\u001b[0m\u001b[0;34m)\u001b[0m\u001b[0;34m\u001b[0m\u001b[0;34m\u001b[0m\u001b[0m\n\u001b[1;32m    208\u001b[0m         \u001b[0;32mif\u001b[0m \u001b[0mcase\u001b[0m \u001b[0;34m==\u001b[0m \u001b[0;36m1\u001b[0m\u001b[0;34m:\u001b[0m\u001b[0;34m\u001b[0m\u001b[0;34m\u001b[0m\u001b[0m\n",
      "\u001b[0;32m<ipython-input-263-45a221f4ab03>\u001b[0m in \u001b[0;36mcheck_ind_rules\u001b[0;34m(self, origin_graph, current_graph, prev_rule, prev_case)\u001b[0m\n\u001b[1;32m    237\u001b[0m \u001b[0;34m\u001b[0m\u001b[0m\n\u001b[1;32m    238\u001b[0m         \u001b[0;32mfor\u001b[0m \u001b[0mnode\u001b[0m \u001b[0;32min\u001b[0m \u001b[0mcurrent_graph\u001b[0m\u001b[0;34m.\u001b[0m\u001b[0mast_list\u001b[0m\u001b[0;34m:\u001b[0m\u001b[0;34m\u001b[0m\u001b[0;34m\u001b[0m\u001b[0m\n\u001b[0;32m--> 239\u001b[0;31m             \u001b[0mtot\u001b[0m \u001b[0;34m=\u001b[0m \u001b[0mself\u001b[0m\u001b[0;34m.\u001b[0m\u001b[0mcrawl_ast\u001b[0m\u001b[0;34m(\u001b[0m\u001b[0mnode\u001b[0m\u001b[0;34m,\u001b[0m \u001b[0morigin_graph\u001b[0m\u001b[0;34m,\u001b[0m \u001b[0mcurrent_graph\u001b[0m\u001b[0;34m,\u001b[0m \u001b[0mprev_rule\u001b[0m\u001b[0;34m,\u001b[0m \u001b[0mprev_case\u001b[0m\u001b[0;34m)\u001b[0m\u001b[0;34m\u001b[0m\u001b[0;34m\u001b[0m\u001b[0m\n\u001b[0m\u001b[1;32m    240\u001b[0m \u001b[0;31m#             for rule, mirror in node.xor_dic.items():\u001b[0m\u001b[0;34m\u001b[0m\u001b[0;34m\u001b[0m\u001b[0;34m\u001b[0m\u001b[0m\n\u001b[1;32m    241\u001b[0m \u001b[0;31m#                 tot += 1\u001b[0m\u001b[0;34m\u001b[0m\u001b[0;34m\u001b[0m\u001b[0;34m\u001b[0m\u001b[0m\n",
      "\u001b[0;32m<ipython-input-263-45a221f4ab03>\u001b[0m in \u001b[0;36mcrawl_ast\u001b[0;34m(self, node, origin_graph, current_graph, prev_rule, prev_case)\u001b[0m\n\u001b[1;32m    259\u001b[0m \u001b[0;34m\u001b[0m\u001b[0m\n\u001b[1;32m    260\u001b[0m             \u001b[0;32mif\u001b[0m \u001b[0mtype\u001b[0m\u001b[0;34m(\u001b[0m\u001b[0mnode\u001b[0m\u001b[0;34m)\u001b[0m\u001b[0;34m.\u001b[0m\u001b[0m__name__\u001b[0m \u001b[0;34m==\u001b[0m \u001b[0;34m\"Node_condition\"\u001b[0m\u001b[0;34m:\u001b[0m\u001b[0;34m\u001b[0m\u001b[0;34m\u001b[0m\u001b[0m\n\u001b[0;32m--> 261\u001b[0;31m                 \u001b[0;32mif\u001b[0m \u001b[0mself\u001b[0m\u001b[0;34m.\u001b[0m\u001b[0mcrawl_ast\u001b[0m\u001b[0;34m(\u001b[0m\u001b[0mnode\u001b[0m\u001b[0;34m.\u001b[0m\u001b[0mleft\u001b[0m\u001b[0;34m,\u001b[0m \u001b[0morigin_graph\u001b[0m\u001b[0;34m,\u001b[0m \u001b[0mcurrent_graph\u001b[0m\u001b[0;34m,\u001b[0m \u001b[0mprev_rule\u001b[0m\u001b[0;34m,\u001b[0m \u001b[0mprev_case\u001b[0m\u001b[0;34m)\u001b[0m \u001b[0;34m==\u001b[0m \u001b[0;36m1\u001b[0m\u001b[0;34m:\u001b[0m\u001b[0;34m\u001b[0m\u001b[0;34m\u001b[0m\u001b[0m\n\u001b[0m\u001b[1;32m    262\u001b[0m                     \u001b[0;32mreturn\u001b[0m \u001b[0;36m1\u001b[0m\u001b[0;34m\u001b[0m\u001b[0;34m\u001b[0m\u001b[0m\n\u001b[1;32m    263\u001b[0m                 \u001b[0;32mreturn\u001b[0m \u001b[0mself\u001b[0m\u001b[0;34m.\u001b[0m\u001b[0mcrawl_ast\u001b[0m\u001b[0;34m(\u001b[0m\u001b[0mnode\u001b[0m\u001b[0;34m.\u001b[0m\u001b[0mright\u001b[0m\u001b[0;34m,\u001b[0m \u001b[0morigin_graph\u001b[0m\u001b[0;34m,\u001b[0m \u001b[0mcurrent_graph\u001b[0m\u001b[0;34m,\u001b[0m \u001b[0mprev_rule\u001b[0m\u001b[0;34m,\u001b[0m \u001b[0mprev_case\u001b[0m\u001b[0;34m)\u001b[0m\u001b[0;34m\u001b[0m\u001b[0;34m\u001b[0m\u001b[0m\n",
      "\u001b[0;32m<ipython-input-263-45a221f4ab03>\u001b[0m in \u001b[0;36mcrawl_ast\u001b[0;34m(self, node, origin_graph, current_graph, prev_rule, prev_case)\u001b[0m\n\u001b[1;32m    259\u001b[0m \u001b[0;34m\u001b[0m\u001b[0m\n\u001b[1;32m    260\u001b[0m             \u001b[0;32mif\u001b[0m \u001b[0mtype\u001b[0m\u001b[0;34m(\u001b[0m\u001b[0mnode\u001b[0m\u001b[0;34m)\u001b[0m\u001b[0;34m.\u001b[0m\u001b[0m__name__\u001b[0m \u001b[0;34m==\u001b[0m \u001b[0;34m\"Node_condition\"\u001b[0m\u001b[0;34m:\u001b[0m\u001b[0;34m\u001b[0m\u001b[0;34m\u001b[0m\u001b[0m\n\u001b[0;32m--> 261\u001b[0;31m                 \u001b[0;32mif\u001b[0m \u001b[0mself\u001b[0m\u001b[0;34m.\u001b[0m\u001b[0mcrawl_ast\u001b[0m\u001b[0;34m(\u001b[0m\u001b[0mnode\u001b[0m\u001b[0;34m.\u001b[0m\u001b[0mleft\u001b[0m\u001b[0;34m,\u001b[0m \u001b[0morigin_graph\u001b[0m\u001b[0;34m,\u001b[0m \u001b[0mcurrent_graph\u001b[0m\u001b[0;34m,\u001b[0m \u001b[0mprev_rule\u001b[0m\u001b[0;34m,\u001b[0m \u001b[0mprev_case\u001b[0m\u001b[0;34m)\u001b[0m \u001b[0;34m==\u001b[0m \u001b[0;36m1\u001b[0m\u001b[0;34m:\u001b[0m\u001b[0;34m\u001b[0m\u001b[0;34m\u001b[0m\u001b[0m\n\u001b[0m\u001b[1;32m    262\u001b[0m                     \u001b[0;32mreturn\u001b[0m \u001b[0;36m1\u001b[0m\u001b[0;34m\u001b[0m\u001b[0;34m\u001b[0m\u001b[0m\n\u001b[1;32m    263\u001b[0m                 \u001b[0;32mreturn\u001b[0m \u001b[0mself\u001b[0m\u001b[0;34m.\u001b[0m\u001b[0mcrawl_ast\u001b[0m\u001b[0;34m(\u001b[0m\u001b[0mnode\u001b[0m\u001b[0;34m.\u001b[0m\u001b[0mright\u001b[0m\u001b[0;34m,\u001b[0m \u001b[0morigin_graph\u001b[0m\u001b[0;34m,\u001b[0m \u001b[0mcurrent_graph\u001b[0m\u001b[0;34m,\u001b[0m \u001b[0mprev_rule\u001b[0m\u001b[0;34m,\u001b[0m \u001b[0mprev_case\u001b[0m\u001b[0;34m)\u001b[0m\u001b[0;34m\u001b[0m\u001b[0;34m\u001b[0m\u001b[0m\n",
      "\u001b[0;32m<ipython-input-263-45a221f4ab03>\u001b[0m in \u001b[0;36mcrawl_ast\u001b[0;34m(self, node, origin_graph, current_graph, prev_rule, prev_case)\u001b[0m\n\u001b[1;32m    252\u001b[0m         \u001b[0;32mif\u001b[0m \u001b[0mnode\u001b[0m\u001b[0;34m:\u001b[0m\u001b[0;34m\u001b[0m\u001b[0;34m\u001b[0m\u001b[0m\n\u001b[1;32m    253\u001b[0m             \u001b[0;32mfor\u001b[0m \u001b[0mrule\u001b[0m\u001b[0;34m,\u001b[0m \u001b[0mmirror\u001b[0m \u001b[0;32min\u001b[0m \u001b[0mnode\u001b[0m\u001b[0;34m.\u001b[0m\u001b[0mxor_dic\u001b[0m\u001b[0;34m.\u001b[0m\u001b[0mitems\u001b[0m\u001b[0;34m(\u001b[0m\u001b[0;34m)\u001b[0m\u001b[0;34m:\u001b[0m\u001b[0;34m\u001b[0m\u001b[0;34m\u001b[0m\u001b[0m\n\u001b[0;32m--> 254\u001b[0;31m                 \u001b[0mself\u001b[0m\u001b[0;34m.\u001b[0m\u001b[0mhandle_xor\u001b[0m\u001b[0;34m(\u001b[0m\u001b[0morigin_graph\u001b[0m\u001b[0;34m,\u001b[0m \u001b[0mcurrent_graph\u001b[0m\u001b[0;34m,\u001b[0m \u001b[0mprev_rule\u001b[0m\u001b[0;34m,\u001b[0m \u001b[0mprev_case\u001b[0m\u001b[0;34m,\u001b[0m \u001b[0mnode\u001b[0m\u001b[0;34m,\u001b[0m \u001b[0mrule\u001b[0m\u001b[0;34m,\u001b[0m \u001b[0mmirror\u001b[0m\u001b[0;34m)\u001b[0m\u001b[0;34m\u001b[0m\u001b[0;34m\u001b[0m\u001b[0m\n\u001b[0m\u001b[1;32m    255\u001b[0m                 \u001b[0;32mreturn\u001b[0m \u001b[0;36m1\u001b[0m\u001b[0;34m\u001b[0m\u001b[0;34m\u001b[0m\u001b[0m\n\u001b[1;32m    256\u001b[0m             \u001b[0;32mfor\u001b[0m \u001b[0mrule\u001b[0m\u001b[0;34m,\u001b[0m \u001b[0mmirror\u001b[0m \u001b[0;32min\u001b[0m \u001b[0mnode\u001b[0m\u001b[0;34m.\u001b[0m\u001b[0mor_dic\u001b[0m\u001b[0;34m.\u001b[0m\u001b[0mitems\u001b[0m\u001b[0;34m(\u001b[0m\u001b[0;34m)\u001b[0m\u001b[0;34m:\u001b[0m\u001b[0;34m\u001b[0m\u001b[0;34m\u001b[0m\u001b[0m\n",
      "\u001b[0;32m<ipython-input-263-45a221f4ab03>\u001b[0m in \u001b[0;36mhandle_xor\u001b[0;34m(self, origin_graph, current_graph, prev_rule, prev_case, node, rule, mirror)\u001b[0m\n\u001b[1;32m    204\u001b[0m \u001b[0;34m\u001b[0m\u001b[0m\n\u001b[1;32m    205\u001b[0m         \u001b[0;32mif\u001b[0m \u001b[0mcase\u001b[0m \u001b[0;34m==\u001b[0m \u001b[0;36m0\u001b[0m\u001b[0;34m:\u001b[0m\u001b[0;34m\u001b[0m\u001b[0;34m\u001b[0m\u001b[0m\n\u001b[0;32m--> 206\u001b[0;31m             \u001b[0mself\u001b[0m\u001b[0;34m.\u001b[0m\u001b[0mcheck_ind_rules\u001b[0m\u001b[0;34m(\u001b[0m\u001b[0morigin_graph\u001b[0m\u001b[0;34m,\u001b[0m \u001b[0mcopy_graph_1\u001b[0m\u001b[0;34m,\u001b[0m \u001b[0mcopy_rule\u001b[0m\u001b[0;34m,\u001b[0m \u001b[0mcase\u001b[0m\u001b[0;34m)\u001b[0m\u001b[0;34m\u001b[0m\u001b[0;34m\u001b[0m\u001b[0m\n\u001b[0m\u001b[1;32m    207\u001b[0m             \u001b[0mself\u001b[0m\u001b[0;34m.\u001b[0m\u001b[0mcheck_ind_rules\u001b[0m\u001b[0;34m(\u001b[0m\u001b[0morigin_graph\u001b[0m\u001b[0;34m,\u001b[0m \u001b[0mcopy_graph_2\u001b[0m\u001b[0;34m,\u001b[0m \u001b[0mcopy_rule\u001b[0m\u001b[0;34m,\u001b[0m \u001b[0mcase\u001b[0m\u001b[0;34m)\u001b[0m\u001b[0;34m\u001b[0m\u001b[0;34m\u001b[0m\u001b[0m\n\u001b[1;32m    208\u001b[0m         \u001b[0;32mif\u001b[0m \u001b[0mcase\u001b[0m \u001b[0;34m==\u001b[0m \u001b[0;36m1\u001b[0m\u001b[0;34m:\u001b[0m\u001b[0;34m\u001b[0m\u001b[0;34m\u001b[0m\u001b[0m\n",
      "\u001b[0;32m<ipython-input-263-45a221f4ab03>\u001b[0m in \u001b[0;36mcheck_ind_rules\u001b[0;34m(self, origin_graph, current_graph, prev_rule, prev_case)\u001b[0m\n\u001b[1;32m    237\u001b[0m \u001b[0;34m\u001b[0m\u001b[0m\n\u001b[1;32m    238\u001b[0m         \u001b[0;32mfor\u001b[0m \u001b[0mnode\u001b[0m \u001b[0;32min\u001b[0m \u001b[0mcurrent_graph\u001b[0m\u001b[0;34m.\u001b[0m\u001b[0mast_list\u001b[0m\u001b[0;34m:\u001b[0m\u001b[0;34m\u001b[0m\u001b[0;34m\u001b[0m\u001b[0m\n\u001b[0;32m--> 239\u001b[0;31m             \u001b[0mtot\u001b[0m \u001b[0;34m=\u001b[0m \u001b[0mself\u001b[0m\u001b[0;34m.\u001b[0m\u001b[0mcrawl_ast\u001b[0m\u001b[0;34m(\u001b[0m\u001b[0mnode\u001b[0m\u001b[0;34m,\u001b[0m \u001b[0morigin_graph\u001b[0m\u001b[0;34m,\u001b[0m \u001b[0mcurrent_graph\u001b[0m\u001b[0;34m,\u001b[0m \u001b[0mprev_rule\u001b[0m\u001b[0;34m,\u001b[0m \u001b[0mprev_case\u001b[0m\u001b[0;34m)\u001b[0m\u001b[0;34m\u001b[0m\u001b[0;34m\u001b[0m\u001b[0m\n\u001b[0m\u001b[1;32m    240\u001b[0m \u001b[0;31m#             for rule, mirror in node.xor_dic.items():\u001b[0m\u001b[0;34m\u001b[0m\u001b[0;34m\u001b[0m\u001b[0;34m\u001b[0m\u001b[0m\n\u001b[1;32m    241\u001b[0m \u001b[0;31m#                 tot += 1\u001b[0m\u001b[0;34m\u001b[0m\u001b[0;34m\u001b[0m\u001b[0;34m\u001b[0m\u001b[0m\n",
      "\u001b[0;32m<ipython-input-263-45a221f4ab03>\u001b[0m in \u001b[0;36mcrawl_ast\u001b[0;34m(self, node, origin_graph, current_graph, prev_rule, prev_case)\u001b[0m\n\u001b[1;32m    261\u001b[0m                 \u001b[0;32mif\u001b[0m \u001b[0mself\u001b[0m\u001b[0;34m.\u001b[0m\u001b[0mcrawl_ast\u001b[0m\u001b[0;34m(\u001b[0m\u001b[0mnode\u001b[0m\u001b[0;34m.\u001b[0m\u001b[0mleft\u001b[0m\u001b[0;34m,\u001b[0m \u001b[0morigin_graph\u001b[0m\u001b[0;34m,\u001b[0m \u001b[0mcurrent_graph\u001b[0m\u001b[0;34m,\u001b[0m \u001b[0mprev_rule\u001b[0m\u001b[0;34m,\u001b[0m \u001b[0mprev_case\u001b[0m\u001b[0;34m)\u001b[0m \u001b[0;34m==\u001b[0m \u001b[0;36m1\u001b[0m\u001b[0;34m:\u001b[0m\u001b[0;34m\u001b[0m\u001b[0;34m\u001b[0m\u001b[0m\n\u001b[1;32m    262\u001b[0m                     \u001b[0;32mreturn\u001b[0m \u001b[0;36m1\u001b[0m\u001b[0;34m\u001b[0m\u001b[0;34m\u001b[0m\u001b[0m\n\u001b[0;32m--> 263\u001b[0;31m                 \u001b[0;32mreturn\u001b[0m \u001b[0mself\u001b[0m\u001b[0;34m.\u001b[0m\u001b[0mcrawl_ast\u001b[0m\u001b[0;34m(\u001b[0m\u001b[0mnode\u001b[0m\u001b[0;34m.\u001b[0m\u001b[0mright\u001b[0m\u001b[0;34m,\u001b[0m \u001b[0morigin_graph\u001b[0m\u001b[0;34m,\u001b[0m \u001b[0mcurrent_graph\u001b[0m\u001b[0;34m,\u001b[0m \u001b[0mprev_rule\u001b[0m\u001b[0;34m,\u001b[0m \u001b[0mprev_case\u001b[0m\u001b[0;34m)\u001b[0m\u001b[0;34m\u001b[0m\u001b[0;34m\u001b[0m\u001b[0m\n\u001b[0m\u001b[1;32m    264\u001b[0m             \u001b[0;32mreturn\u001b[0m \u001b[0;36m0\u001b[0m\u001b[0;34m\u001b[0m\u001b[0;34m\u001b[0m\u001b[0m\n\u001b[1;32m    265\u001b[0m \u001b[0;34m\u001b[0m\u001b[0m\n",
      "\u001b[0;32m<ipython-input-263-45a221f4ab03>\u001b[0m in \u001b[0;36mcrawl_ast\u001b[0;34m(self, node, origin_graph, current_graph, prev_rule, prev_case)\u001b[0m\n\u001b[1;32m    259\u001b[0m \u001b[0;34m\u001b[0m\u001b[0m\n\u001b[1;32m    260\u001b[0m             \u001b[0;32mif\u001b[0m \u001b[0mtype\u001b[0m\u001b[0;34m(\u001b[0m\u001b[0mnode\u001b[0m\u001b[0;34m)\u001b[0m\u001b[0;34m.\u001b[0m\u001b[0m__name__\u001b[0m \u001b[0;34m==\u001b[0m \u001b[0;34m\"Node_condition\"\u001b[0m\u001b[0;34m:\u001b[0m\u001b[0;34m\u001b[0m\u001b[0;34m\u001b[0m\u001b[0m\n\u001b[0;32m--> 261\u001b[0;31m                 \u001b[0;32mif\u001b[0m \u001b[0mself\u001b[0m\u001b[0;34m.\u001b[0m\u001b[0mcrawl_ast\u001b[0m\u001b[0;34m(\u001b[0m\u001b[0mnode\u001b[0m\u001b[0;34m.\u001b[0m\u001b[0mleft\u001b[0m\u001b[0;34m,\u001b[0m \u001b[0morigin_graph\u001b[0m\u001b[0;34m,\u001b[0m \u001b[0mcurrent_graph\u001b[0m\u001b[0;34m,\u001b[0m \u001b[0mprev_rule\u001b[0m\u001b[0;34m,\u001b[0m \u001b[0mprev_case\u001b[0m\u001b[0;34m)\u001b[0m \u001b[0;34m==\u001b[0m \u001b[0;36m1\u001b[0m\u001b[0;34m:\u001b[0m\u001b[0;34m\u001b[0m\u001b[0;34m\u001b[0m\u001b[0m\n\u001b[0m\u001b[1;32m    262\u001b[0m                     \u001b[0;32mreturn\u001b[0m \u001b[0;36m1\u001b[0m\u001b[0;34m\u001b[0m\u001b[0;34m\u001b[0m\u001b[0m\n\u001b[1;32m    263\u001b[0m                 \u001b[0;32mreturn\u001b[0m \u001b[0mself\u001b[0m\u001b[0;34m.\u001b[0m\u001b[0mcrawl_ast\u001b[0m\u001b[0;34m(\u001b[0m\u001b[0mnode\u001b[0m\u001b[0;34m.\u001b[0m\u001b[0mright\u001b[0m\u001b[0;34m,\u001b[0m \u001b[0morigin_graph\u001b[0m\u001b[0;34m,\u001b[0m \u001b[0mcurrent_graph\u001b[0m\u001b[0;34m,\u001b[0m \u001b[0mprev_rule\u001b[0m\u001b[0;34m,\u001b[0m \u001b[0mprev_case\u001b[0m\u001b[0;34m)\u001b[0m\u001b[0;34m\u001b[0m\u001b[0;34m\u001b[0m\u001b[0m\n",
      "\u001b[0;32m<ipython-input-263-45a221f4ab03>\u001b[0m in \u001b[0;36mcrawl_ast\u001b[0;34m(self, node, origin_graph, current_graph, prev_rule, prev_case)\u001b[0m\n\u001b[1;32m    252\u001b[0m         \u001b[0;32mif\u001b[0m \u001b[0mnode\u001b[0m\u001b[0;34m:\u001b[0m\u001b[0;34m\u001b[0m\u001b[0;34m\u001b[0m\u001b[0m\n\u001b[1;32m    253\u001b[0m             \u001b[0;32mfor\u001b[0m \u001b[0mrule\u001b[0m\u001b[0;34m,\u001b[0m \u001b[0mmirror\u001b[0m \u001b[0;32min\u001b[0m \u001b[0mnode\u001b[0m\u001b[0;34m.\u001b[0m\u001b[0mxor_dic\u001b[0m\u001b[0;34m.\u001b[0m\u001b[0mitems\u001b[0m\u001b[0;34m(\u001b[0m\u001b[0;34m)\u001b[0m\u001b[0;34m:\u001b[0m\u001b[0;34m\u001b[0m\u001b[0;34m\u001b[0m\u001b[0m\n\u001b[0;32m--> 254\u001b[0;31m                 \u001b[0mself\u001b[0m\u001b[0;34m.\u001b[0m\u001b[0mhandle_xor\u001b[0m\u001b[0;34m(\u001b[0m\u001b[0morigin_graph\u001b[0m\u001b[0;34m,\u001b[0m \u001b[0mcurrent_graph\u001b[0m\u001b[0;34m,\u001b[0m \u001b[0mprev_rule\u001b[0m\u001b[0;34m,\u001b[0m \u001b[0mprev_case\u001b[0m\u001b[0;34m,\u001b[0m \u001b[0mnode\u001b[0m\u001b[0;34m,\u001b[0m \u001b[0mrule\u001b[0m\u001b[0;34m,\u001b[0m \u001b[0mmirror\u001b[0m\u001b[0;34m)\u001b[0m\u001b[0;34m\u001b[0m\u001b[0;34m\u001b[0m\u001b[0m\n\u001b[0m\u001b[1;32m    255\u001b[0m                 \u001b[0;32mreturn\u001b[0m \u001b[0;36m1\u001b[0m\u001b[0;34m\u001b[0m\u001b[0;34m\u001b[0m\u001b[0m\n\u001b[1;32m    256\u001b[0m             \u001b[0;32mfor\u001b[0m \u001b[0mrule\u001b[0m\u001b[0;34m,\u001b[0m \u001b[0mmirror\u001b[0m \u001b[0;32min\u001b[0m \u001b[0mnode\u001b[0m\u001b[0;34m.\u001b[0m\u001b[0mor_dic\u001b[0m\u001b[0;34m.\u001b[0m\u001b[0mitems\u001b[0m\u001b[0;34m(\u001b[0m\u001b[0;34m)\u001b[0m\u001b[0;34m:\u001b[0m\u001b[0;34m\u001b[0m\u001b[0;34m\u001b[0m\u001b[0m\n",
      "\u001b[0;32m<ipython-input-263-45a221f4ab03>\u001b[0m in \u001b[0;36mhandle_xor\u001b[0;34m(self, origin_graph, current_graph, prev_rule, prev_case, node, rule, mirror)\u001b[0m\n\u001b[1;32m    183\u001b[0m         \u001b[0;32mif\u001b[0m \u001b[0mprev_case\u001b[0m \u001b[0;34m==\u001b[0m \u001b[0;36m0\u001b[0m\u001b[0;34m:\u001b[0m\u001b[0;34m\u001b[0m\u001b[0;34m\u001b[0m\u001b[0m\n\u001b[1;32m    184\u001b[0m             \u001b[0;32mif\u001b[0m \u001b[0mcase\u001b[0m \u001b[0;34m==\u001b[0m \u001b[0;36m1\u001b[0m \u001b[0;32mor\u001b[0m \u001b[0mcase\u001b[0m \u001b[0;34m==\u001b[0m \u001b[0;36m0\u001b[0m\u001b[0;34m:\u001b[0m\u001b[0;34m\u001b[0m\u001b[0;34m\u001b[0m\u001b[0m\n\u001b[0;32m--> 185\u001b[0;31m                 \u001b[0mself\u001b[0m\u001b[0;34m.\u001b[0m\u001b[0mset_rules_xor\u001b[0m\u001b[0;34m(\u001b[0m\u001b[0mrule\u001b[0m\u001b[0;34m,\u001b[0m \u001b[0mnode\u001b[0m\u001b[0;34m,\u001b[0m \u001b[0mcopy_graph_1\u001b[0m\u001b[0;34m,\u001b[0m \u001b[0;36m1\u001b[0m\u001b[0;34m)\u001b[0m\u001b[0;34m\u001b[0m\u001b[0;34m\u001b[0m\u001b[0m\n\u001b[0m\u001b[1;32m    186\u001b[0m                 \u001b[0mself\u001b[0m\u001b[0;34m.\u001b[0m\u001b[0mset_rules_xor\u001b[0m\u001b[0;34m(\u001b[0m\u001b[0mrule\u001b[0m\u001b[0;34m,\u001b[0m \u001b[0mnode\u001b[0m\u001b[0;34m,\u001b[0m \u001b[0mcopy_graph_2\u001b[0m\u001b[0;34m,\u001b[0m \u001b[0;36m2\u001b[0m\u001b[0;34m)\u001b[0m\u001b[0;34m\u001b[0m\u001b[0;34m\u001b[0m\u001b[0m\n\u001b[1;32m    187\u001b[0m             \u001b[0;32melif\u001b[0m \u001b[0mcase\u001b[0m \u001b[0;34m==\u001b[0m \u001b[0;36m2\u001b[0m\u001b[0;34m:\u001b[0m\u001b[0;34m\u001b[0m\u001b[0;34m\u001b[0m\u001b[0m\n",
      "\u001b[0;32m<ipython-input-263-45a221f4ab03>\u001b[0m in \u001b[0;36mset_rules_xor\u001b[0;34m(self, rule, node, copy_graph, step)\u001b[0m\n\u001b[1;32m    289\u001b[0m         \u001b[0mcopy_node\u001b[0m \u001b[0;34m=\u001b[0m \u001b[0mcopy_graph\u001b[0m\u001b[0;34m.\u001b[0m\u001b[0mfind_letter_in_implies\u001b[0m\u001b[0;34m(\u001b[0m\u001b[0mnode\u001b[0m\u001b[0;34m.\u001b[0m\u001b[0mname\u001b[0m\u001b[0;34m)\u001b[0m\u001b[0;34m\u001b[0m\u001b[0;34m\u001b[0m\u001b[0m\n\u001b[1;32m    290\u001b[0m         \u001b[0mcopy_rule\u001b[0m \u001b[0;34m=\u001b[0m \u001b[0mself\u001b[0m\u001b[0;34m.\u001b[0m\u001b[0mget_copy_rule\u001b[0m\u001b[0;34m(\u001b[0m\u001b[0mnode\u001b[0m\u001b[0;34m,\u001b[0m \u001b[0mrule\u001b[0m\u001b[0;34m,\u001b[0m \u001b[0mcopy_node\u001b[0m\u001b[0;34m,\u001b[0m \u001b[0mcopy_graph\u001b[0m\u001b[0;34m)\u001b[0m\u001b[0;34m\u001b[0m\u001b[0;34m\u001b[0m\u001b[0m\n\u001b[0;32m--> 291\u001b[0;31m         \u001b[0mcopy_mirror\u001b[0m \u001b[0;34m=\u001b[0m \u001b[0mcopy_node\u001b[0m\u001b[0;34m.\u001b[0m\u001b[0mxor_dic\u001b[0m\u001b[0;34m[\u001b[0m\u001b[0mcopy_rule\u001b[0m\u001b[0;34m]\u001b[0m\u001b[0;34m\u001b[0m\u001b[0;34m\u001b[0m\u001b[0m\n\u001b[0m\u001b[1;32m    292\u001b[0m         \u001b[0;32mif\u001b[0m \u001b[0mstep\u001b[0m \u001b[0;34m==\u001b[0m \u001b[0;36m1\u001b[0m\u001b[0;34m:\u001b[0m\u001b[0;34m\u001b[0m\u001b[0;34m\u001b[0m\u001b[0m\n\u001b[1;32m    293\u001b[0m             \u001b[0mself\u001b[0m\u001b[0;34m.\u001b[0m\u001b[0mdel_rule_in_childs\u001b[0m\u001b[0;34m(\u001b[0m\u001b[0mcopy_mirror\u001b[0m\u001b[0;34m,\u001b[0m \u001b[0mcopy_rule\u001b[0m\u001b[0;34m)\u001b[0m\u001b[0;34m\u001b[0m\u001b[0;34m\u001b[0m\u001b[0m\n",
      "\u001b[0;31mKeyError\u001b[0m: None"
     ]
    }
   ],
   "source": [
    "graph = Graph()\n",
    "    \n",
    "graph.add_new_AST(Parser(Lexer(rule1)).parse())\n",
    "# graph.add_new_AST(Parser(Lexer(rule2)).parse())\n",
    "graph.add_new_AST(Parser(Lexer(rule5)).parse())\n",
    "    \n",
    "graph.learn_facts(true_facts)\n",
    "for node in graph.implies_list:\n",
    "    graph.set_facts(node)\n",
    "if graph.incoherent == 0:\n",
    "    graph.resolve_simple()\n",
    "else:\n",
    "    graph.resolve_complex()    \n",
    "for query in queries:\n",
    "    graph.query(query)"
   ]
  },
  {
   "cell_type": "code",
   "execution_count": 279,
   "metadata": {},
   "outputs": [],
   "source": [
    "class Graph(object):\n",
    "\n",
    "    def __init__(self):\n",
    "        self.ast_list = []\n",
    "        self.implies_list = []\n",
    "        self.implies_name_list = []\n",
    "        self.true_facts = \"\"\n",
    "        self.incoherent = 0\n",
    "        self.interpretor = Interpreter()\n",
    "        self.full_history = {}\n",
    "        self.list_copy = []\n",
    "\n",
    "    def error(self, s):\n",
    "        raise Exception(s)\n",
    "\n",
    "    def add_new_AST(self, root):\n",
    "        self.update_implies_list(root.right)\n",
    "        self.update_graph(root.left, root.right)\n",
    "        self.ast_list.append(root.right)\n",
    "        \n",
    "    def update_implies_list(self, node):\n",
    "        if node:\n",
    "            if type(node).__name__ == \"Node_letter\":\n",
    "                if node.name not in self.implies_name_list:\n",
    "                    self.implies_list.append(node)\n",
    "                    self.implies_name_list.append(node.name)\n",
    "            if type(node).__name__ == \"Node_condition\":\n",
    "                self.update_implies_list(node.left)\n",
    "                self.update_implies_list(node.right)\n",
    "\n",
    "    def update_graph(self, left, node):\n",
    "        if node:\n",
    "            if type(node).__name__ == \"Node_letter\":\n",
    "                if node.neg == 1:\n",
    "                    (self.find_letter_in_implies(node.name)\n",
    "                        .childs_neg.append(left))\n",
    "                else:\n",
    "                    (self.find_letter_in_implies(node.name)\n",
    "                        .childs_pos.append(left))\n",
    "            if type(node).__name__ == \"Node_condition\":\n",
    "                if node.token.type == \"OR\" or node.token.type == \"XOR\":\n",
    "                    self.update_ind_dics(left, node)\n",
    "                    self.incoherent += 1\n",
    "                if type(node.left).__name__ == \"Node_condition\" and type(node.right).__name__ == \"Node_condition\":\n",
    "                    print('trigg')\n",
    "                self.update_graph(left, node.left)\n",
    "                self.update_graph(left, node.right)\n",
    "\n",
    "    def update_ind_dics(self, left, node):\n",
    "        if node.token.type == \"OR\":\n",
    "            if type(node.left).__name__ == \"Node_letter\":\n",
    "                self.find_letter_in_implies(node.left.name).or_dic[left] = node.right\n",
    "            else:\n",
    "                node.left.or_dic[left] = node.right\n",
    "            if type(node.right).__name__ == \"Node_letter\":\n",
    "                self.find_letter_in_implies(node.right.name).or_dic[left] = node.left\n",
    "            else:\n",
    "                node.right.or_dic[left] = node.left\n",
    "        if node.token.type == \"XOR\":\n",
    "            if type(node.left).__name__ == \"Node_letter\":\n",
    "                self.find_letter_in_implies(node.left.name).xor_dic[left] = node.right\n",
    "            else:\n",
    "                node.left.xor_dic[left] = node.right\n",
    "            if type(node.right).__name__ == \"Node_letter\":\n",
    "                self.find_letter_in_implies(node.right.name).xor_dic[left] = node.left\n",
    "            else:\n",
    "                node.right.xor_dic[left] = node.left\n",
    "            \n",
    "    def find_letter_in_implies(self, name):\n",
    "        for node in self.implies_list:\n",
    "            if node.name == name:\n",
    "                return node\n",
    "        return None\n",
    "\n",
    "    def learn_facts(self, true_facts):\n",
    "        self.true_facts = true_facts\n",
    "\n",
    "    def set_facts(self, node):\n",
    "        if node:\n",
    "            if type(node).__name__ == \"Node_letter\":\n",
    "                for child in (node.childs_pos + node.childs_neg):\n",
    "                    self.set_facts(child)\n",
    "                if node.token.value in self.true_facts:\n",
    "                    node.state = 1 \n",
    "            if type(node).__name__ == \"Node_condition\":\n",
    "                self.set_facts(node.left)\n",
    "                self.set_facts(node.right)\n",
    "        \n",
    "    def query(self, letter):\n",
    "        if letter in self.full_history.keys():\n",
    "            if self.full_history[letter] != None:\n",
    "                print(\"{} is {}\".format(letter, self.full_history[letter]))\n",
    "                return self.full_history[letter]\n",
    "        if letter in self.true_facts:\n",
    "            print(\"{} is True\".format(letter))\n",
    "            return True\n",
    "        else:\n",
    "            print(\"{} is False\".format(letter))\n",
    "            return False\n",
    "\n",
    "    def resolve_simple(self):\n",
    "        for node in self.implies_list:\n",
    "            self.full_history[node.name] = self.get_simple_final_state(node)\n",
    "            if self.full_history[node.name] is None:\n",
    "                if node.name in self.true_facts:\n",
    "                    self.full_history[node.name] = True\n",
    "                else:\n",
    "                    self.full_history[node.name] = False\n",
    "        return self.full_history\n",
    "    \n",
    "    def get_simple_final_state(self, node):\n",
    "        history = []\n",
    "        for child in node.childs_pos:\n",
    "            res = self.interpretor.interpret(child, self)\n",
    "            if res == 1:\n",
    "                history.append(True)\n",
    "\n",
    "        for child in node.childs_neg:\n",
    "            res = self.interpretor.interpret(child, self)\n",
    "            if res == 1:\n",
    "                history.append(False)\n",
    "\n",
    "        if len(set(history)) == 0:\n",
    "            return\n",
    "        elif len(set(history)) == 1:\n",
    "            return history[0]\n",
    "        else:\n",
    "            self.error(\"Error contradiction found with letter {}\"\n",
    "                       .format(node.name))\n",
    "   \n",
    "    def merge_new_graph(self, new):\n",
    "        if self.tmp_history == {}:\n",
    "            self.tmp_history = new\n",
    "            return\n",
    "        for letter, state in new.items():\n",
    "            if state != self.tmp_history[letter]:\n",
    "                self.tmp_history[letter] = \"IND\"\n",
    "                \n",
    "    def resolve_complex(self):\n",
    "        self.check_ind_rules(self, self, None, 0)\n",
    "        self.tmp_history = {}\n",
    "        for copy_graph in self.list_copy:\n",
    "            hist = copy_graph.resolve_simple()\n",
    "            print(hist)\n",
    "            self.merge_new_graph(hist)\n",
    "        self.full_history = self.tmp_history\n",
    "    \"\"\"\n",
    "    IIICCCCII\n",
    "    IIICCCCII\n",
    "    IIICCCCIIIIICCCCII\n",
    "    IIICCCCII\n",
    "    IIICCCCIIv\n",
    "    v\n",
    "    IIICCCCIIIIICCCCIIIIICCCCII\n",
    "    IIICCCCII\n",
    "    \"\"\"\n",
    "    def handle_xor(self, origin_graph, current_graph, prev_rule, prev_case, node, rule, mirror):\n",
    "        print(node, hex(id(node)), mirror, hex(id(mirror)), prev_case, node.xor_dic, mirror.xor_dic)\n",
    "        if prev_rule: #== 1 or prev_case == 2:\n",
    "            self.add_recursively_rule(node, prev_rule)\n",
    "            self.add_recursively_rule(mirror, prev_rule)\n",
    "#         if prev_case == 3:\n",
    "#             self.add_recursively_rule(node, prev_rule)\n",
    "#             self.add_recursively_rule(mirror, prev_rule)\n",
    "#             print(node, mirror, rule)\n",
    "        \n",
    "        copy_graph_1 = copy.deepcopy(current_graph)\n",
    "        copy_graph_2 = copy.deepcopy(current_graph)\n",
    "        copy_rule = None\n",
    "        case = 0\n",
    "        \n",
    "        if type(mirror).__name__ == \"Node_condition\" and type(node).__name__ == \"Node_condition\":\n",
    "            case = 3\n",
    "            copy_rule_1 = self.set_special_xor(rule, node, current_graph, copy_graph_1, 1)\n",
    "            print('ici1')\n",
    "            self.check_ind_rules(origin_graph, copy_graph_1, copy_rule_1, case)\n",
    "            copy_rule_2 = self.set_special_xor(rule, node, current_graph, copy_graph_2, 2)\n",
    "            print('ici2')\n",
    "            self.check_ind_rules(origin_graph, copy_graph_2, copy_rule_2, case)\n",
    "            \n",
    "        if type(mirror).__name__ == \"Node_condition\" and case != 3:\n",
    "            copy_node = copy_graph_1.find_letter_in_implies(node.name)\n",
    "            copy_rule = self.get_copy_rule(node, rule, copy_node, copy_graph_1)\n",
    "            case = 1 \n",
    "        if type(node).__name__ == \"Node_condition\" and case != 3:\n",
    "            copy_node = copy_graph_1.find_letter_in_implies(mirror.name)\n",
    "            copy_rule = self.get_copy_rule(mirror, rule, copy_node, copy_graph_1)\n",
    "            case = 2\n",
    "        \n",
    "        \n",
    "        \n",
    "        if prev_case == 0:\n",
    "            if case == 1 or case == 0:\n",
    "                self.set_rules_xor(rule, node, copy_graph_1, 1)\n",
    "                self.set_rules_xor(rule, node, copy_graph_2, 2)\n",
    "            elif case == 2:\n",
    "                self.set_rules_xor(rule, mirror, copy_graph_1, 1)\n",
    "                self.set_rules_xor(rule, mirror, copy_graph_2, 2)\n",
    "        if prev_case == 1:\n",
    "            if case == 0 or case == 1:\n",
    "                self.set_rules_xor(rule, node, copy_graph_1, 3)\n",
    "                self.set_rules_xor(rule, node, copy_graph_2, 4)\n",
    "            elif case == 2:\n",
    "                self.set_rules_xor(rule, mirror, copy_graph_1, 3)\n",
    "                self.set_rules_xor(rule, mirror, copy_graph_2, 4)\n",
    "        if prev_case == 2:\n",
    "            if case == 0 or case == 1:\n",
    "                self.set_rules_xor(rule, node, copy_graph_1, 3)\n",
    "                self.set_rules_xor(rule, node, copy_graph_2, 4)\n",
    "            elif case == 2:\n",
    "                self.set_rules_xor(rule, mirror, copy_graph_1, 3)\n",
    "                self.set_rules_xor(rule, mirror, copy_graph_2, 4)\n",
    "        \n",
    "        if case == 0:\n",
    "            self.check_ind_rules(origin_graph, copy_graph_1, copy_rule, case)\n",
    "            self.check_ind_rules(origin_graph, copy_graph_2, copy_rule, case)\n",
    "        if case == 1:\n",
    "            self.check_ind_rules(origin_graph, copy_graph_1, copy_rule, case)\n",
    "            self.check_ind_rules(origin_graph, copy_graph_2, None, 0)\n",
    "        if case == 2:\n",
    "            self.check_ind_rules(origin_graph, copy_graph_1, copy_rule, case)\n",
    "            self.check_ind_rules(origin_graph, copy_graph_2, None, 0)\n",
    "        if case == 3:\n",
    "            pass\n",
    "#             self.check_ind_rules(origin_graph, copy_graph_1, copy_rule_1, case)\n",
    "#             self.check_ind_rules(origin_graph, copy_graph_2, copy_rule_2, case)\n",
    "        \n",
    "    def handle_or(self, origin_graph, current_graph, prev_rule, prev_case, node, rule, mirror):\n",
    "        \n",
    "        copy_graph_1 = copy.deepcopy(current_graph)\n",
    "        copy_graph_2 = copy.deepcopy(current_graph)\n",
    "        copy_graph_3 = copy.deepcopy(current_graph)\n",
    "        copy_rule = None\n",
    "        case = 0\n",
    "        \n",
    "        self.set_rules_or(rule, node, copy_graph_1, 1)\n",
    "        self.set_rules_or(rule, node, copy_graph_2, 2)\n",
    "        self.set_rules_or(rule, node, copy_graph_3, 3)\n",
    "        \n",
    "        self.check_ind_rules(origin_graph, copy_graph_1, copy_rule, case)\n",
    "        self.check_ind_rules(origin_graph, copy_graph_2, copy_rule, case)\n",
    "        self.check_ind_rules(origin_graph, copy_graph_3, copy_rule, case)\n",
    "        \n",
    "    def check_ind_rules(self, origin_graph, current_graph, prev_rule, prev_case):\n",
    "        tot = 0\n",
    "        \n",
    "        for node in current_graph.ast_list:\n",
    "            tot = self.crawl_ast(node, origin_graph, current_graph, prev_rule, prev_case)\n",
    "#             for rule, mirror in node.xor_dic.items():\n",
    "#                 tot += 1\n",
    "#                 self.handle_xor(origin_graph, current_graph, prev_rule, prev_case, node, rule, mirror)\n",
    "#             for rule, mirror in node.or_dic.items():\n",
    "#                 tot += 1\n",
    "#                 self.handle_or(origin_graph, current_graph, prev_rule, prev_case, node, rule, mirror)\n",
    "            if tot != 0:\n",
    "                return\n",
    "        if tot == 0:\n",
    "            origin_graph.list_copy.append(current_graph)\n",
    "    \n",
    "    def crawl_ast(self, node, origin_graph, current_graph, prev_rule, prev_case):\n",
    "        if node:\n",
    "            for rule, mirror in node.xor_dic.items():\n",
    "                self.handle_xor(origin_graph, current_graph, prev_rule, prev_case, node, rule, mirror)\n",
    "                return 1\n",
    "            for rule, mirror in node.or_dic.items():\n",
    "                self.handle_or(origin_graph, current_graph, prev_rule, prev_case, node, rule, mirror)\n",
    "                return 1\n",
    "            \n",
    "            if type(node).__name__ == \"Node_condition\":\n",
    "                if self.crawl_ast(node.left, origin_graph, current_graph, prev_rule, prev_case) == 1:\n",
    "                    return 1\n",
    "                return self.crawl_ast(node.right, origin_graph, current_graph, prev_rule, prev_case)\n",
    "            return 0\n",
    "    \n",
    "    def set_special_xor(self, rule, node, current_graph, copy_graph, step):\n",
    "        copy_node = self.get_copy_cond(node, current_graph, copy_graph)\n",
    "#         copy_node_2 = self.get_copy_cond(node, current_graph, copy_graph_2)\n",
    "        copy_rule = self.get_copy_rule_cond(node, rule, copy_node, copy_graph)\n",
    "#         copy_rule_2 = self.get_copy_rule_cond(node, rule, copy_node_2, copy_graph_2)\n",
    "        copy_mirror = copy_node.xor_dic[copy_rule]\n",
    "#         copy_mirror_2 = copy_node_2.xor_dic[copy_rule_2]\n",
    "        if step == 1:\n",
    "            self.del_rule_in_childs(copy_mirror, copy_rule)\n",
    "        if step == 2:\n",
    "            self.del_rule_in_childs(copy_node, copy_rule)\n",
    "        if step == 3:\n",
    "            self.del_rule_in_childs(copy_mirror, copy_rule)\n",
    "            self.del_rule_in_childs(copy_node, copy_rule)\n",
    "        if step == 4:\n",
    "            pass\n",
    "        copy_mirror.xor_dic.pop(copy_rule)\n",
    "        copy_node.xor_dic.pop(copy_rule)\n",
    "#         copy_mirror_2.xor_dic.pop(copy_rule_2)\n",
    "#         copy_node_2.xor_dic.pop(copy_rule_2)\n",
    "        return copy_rule\n",
    "    \n",
    "    def set_rules_xor(self, rule, node, copy_graph, step):\n",
    "        copy_node = copy_graph.find_letter_in_implies(node.name)\n",
    "        copy_rule = self.get_copy_rule(node, rule, copy_node, copy_graph)      \n",
    "        print(copy_rule, rule)\n",
    "        copy_mirror = copy_node.xor_dic[copy_rule]\n",
    "        if step == 1:\n",
    "            self.del_rule_in_childs(copy_mirror, copy_rule)\n",
    "        if step == 2:\n",
    "            self.del_rule_in_childs(copy_node, copy_rule)\n",
    "        if step == 3:\n",
    "            self.del_rule_in_childs(copy_mirror, copy_rule)\n",
    "            self.del_rule_in_childs(copy_node, copy_rule)\n",
    "        if step == 4:\n",
    "            pass\n",
    "        copy_mirror.xor_dic.pop(copy_rule)\n",
    "        copy_node.xor_dic.pop(copy_rule)\n",
    "    \n",
    "    def set_rules_or(self, rule, node, copy_graph, step):\n",
    "        copy_node = copy_graph.find_letter_in_implies(node.name)\n",
    "        copy_rule = self.get_copy_rule(node, rule, copy_node, copy_graph)      \n",
    "        copy_mirror = copy_node.or_dic[copy_rule]\n",
    "        if step == 1:\n",
    "            self.del_rule_in_childs(copy_mirror, copy_rule)\n",
    "        if step == 2:\n",
    "            self.del_rule_in_childs(copy_node, copy_rule)\n",
    "        if step == 3:\n",
    "            self.del_rule_in_childs(copy_mirror, copy_rule)\n",
    "            self.del_rule_in_childs(copy_node, copy_rule)\n",
    "        if step == 4:\n",
    "            pass\n",
    "        \n",
    "        copy_mirror.or_dic.pop(copy_rule)\n",
    "        copy_node.or_dic.pop(copy_rule)\n",
    "    \n",
    "    def del_rule_in_childs(self, node, rule):\n",
    "        if type(node).__name__ == \"Node_letter\":\n",
    "            for index in range(0, len(node.childs_pos)):\n",
    "                if node.childs_pos[index] == rule:\n",
    "                    del node.childs_pos[index]\n",
    "                    return\n",
    "        else:\n",
    "            self.delete_recursively_rule(node, rule)\n",
    "\n",
    "    def delete_recursively_rule(self, node, rule):\n",
    "        if node:\n",
    "            if type(node).__name__ == \"Node_letter\":\n",
    "                self.del_rule_in_childs(node, rule)\n",
    "            if type(node).__name__ == \"Node_condition\":\n",
    "                self.delete_recursively_rule(node.left, rule)\n",
    "                self.delete_recursively_rule(node.right, rule)\n",
    "                \n",
    "    def add_recursively_rule(self, node, rule):\n",
    "        if node:\n",
    "            if type(node).__name__ == \"Node_letter\":\n",
    "                node.childs_pos.append(rule)\n",
    "            if type(node).__name__ == \"Node_condition\":\n",
    "                self.add_recursively_rule(node.left, rule)\n",
    "                self.add_recursively_rule(node.right, rule)\n",
    "                \n",
    "    def get_copy_rule(self, true_node, true_rule, copy_node, copy_graph):\n",
    "        for index in range(0, len(true_node.childs_pos)):\n",
    "            if true_node.childs_pos[index] == true_rule:\n",
    "                return copy_node.childs_pos[index]\n",
    "#         print('error_rule_not_found', hex(id(true_rule)), hex(id(copy_node)), len(true_node.childs_pos))\n",
    "        return \n",
    "    \n",
    "    def get_copy_rule_cond(self, node, rule, copy_node, copy_graph):\n",
    "        while type(node).__name__ == \"Node_condition\":\n",
    "            node = node.left\n",
    "            copy_node = copy_node.left\n",
    "        return self.get_copy_rule(node, rule, copy_node, copy_graph)\n",
    "        \n",
    "    def get_copy_cond(self, node, current_graph, copy_graph):\n",
    "        \n",
    "        for i in range(0, len(current_graph.ast_list)):\n",
    "            ret = self.find_cond_in_ast(node, current_graph.ast_list[i], copy_graph.ast_list[i])\n",
    "            if ret:\n",
    "                return ret\n",
    "            \n",
    "    def find_cond_in_ast(self, to_find, root, copy_root):\n",
    "        if root:\n",
    "            if to_find == root:\n",
    "                return copy_root\n",
    "            if type(root).__name__ == \"Node_condition\":\n",
    "                ret = self.find_cond_in_ast(to_find, root.left, copy_root.left)\n",
    "                if ret:\n",
    "                    return ret\n",
    "                return self.find_cond_in_ast(to_find, root.right, copy_root.right)\n",
    "        return None       "
   ]
  },
  {
   "cell_type": "code",
   "execution_count": 280,
   "metadata": {},
   "outputs": [
    {
     "name": "stdout",
     "output_type": "stream",
     "text": [
      "0\n"
     ]
    }
   ],
   "source": [
    "print(len(graph.list_copy))"
   ]
  },
  {
   "cell_type": "code",
   "execution_count": 281,
   "metadata": {},
   "outputs": [
    {
     "name": "stdout",
     "output_type": "stream",
     "text": [
      "trigg\n",
      "Node_condition(Token(XOR, ^) 0x10c7fe0f0 Node_condition(Token(XOR, ^) 0x10c7feeb8 0 {<xs_node.Node_letter object at 0x10c7fec88>: <xs_node.Node_condition object at 0x10c7feeb8>} {<xs_node.Node_letter object at 0x10c7fec88>: <xs_node.Node_condition object at 0x10c7fe0f0>}\n",
      "ici1\n",
      "Node_letter(Token(LETTER, C)) 0x1153b0898 Node_letter(Token(LETTER, D)) 0x1153b0080 3 {<xs_node.Node_letter object at 0x1153b06d8>: <xs_node.Node_letter object at 0x1153b0080>} {<xs_node.Node_letter object at 0x1153b06d8>: <xs_node.Node_letter object at 0x1153b0898>}\n",
      "Node_letter(Token(LETTER, C)) 0x11580de10 Node_letter(Token(LETTER, D)) 0x11580df28 0 {<xs_node.Node_letter object at 0x11580df60>: <xs_node.Node_letter object at 0x11580df28>} {<xs_node.Node_letter object at 0x11580df60>: <xs_node.Node_letter object at 0x11580de10>}\n",
      "Node_letter(Token(LETTER, A)) Node_letter(Token(LETTER, A))\n",
      "Node_letter(Token(LETTER, A)) Node_letter(Token(LETTER, A))\n",
      "Node_letter(Token(LETTER, E)) 0x10c8410f0 Node_letter(Token(LETTER, F)) 0x10c841fd0 0 {<xs_node.Node_letter object at 0x10c841e10>: <xs_node.Node_letter object at 0x10c841fd0>} {<xs_node.Node_letter object at 0x10c841e10>: <xs_node.Node_letter object at 0x10c8410f0>}\n",
      "None Node_letter(Token(LETTER, A))\n",
      "None\n"
     ]
    }
   ],
   "source": [
    "rule1 = \"A => ((C ^ D) ^ (E ^ F))\"\n",
    "# rule2 = \"A => D ^ E\"\n",
    "# rule3 = \"H => C ^ D\"\n",
    "# rule4 = \"I => E ^ F\"\n",
    "rule5 = \"((((B ^ C) ^ D) ^ E) ^ F) => Z\"\n",
    "true_facts = \"A\"\n",
    "\n",
    "queries = \"Z\"\n",
    "try:\n",
    "    graph = Graph()\n",
    "    \n",
    "    graph.add_new_AST(Parser(Lexer(rule1)).parse())\n",
    "#     graph.add_new_AST(Parser(Lexer(rule2)).parse())\n",
    "#     graph.add_new_AST(Parser(Lexer(rule3)).parse())\n",
    "#     graph.add_new_AST(Parser(Lexer(rule4)).parse())\n",
    "    graph.add_new_AST(Parser(Lexer(rule5)).parse())\n",
    "#     graph.add_new_AST(Parser(Lexer(rule6)).parse())\n",
    "    \n",
    "    graph.learn_facts(true_facts)\n",
    "    for node in graph.implies_list:\n",
    "        graph.set_facts(node)\n",
    "    \n",
    "    if graph.incoherent == 0:\n",
    "        graph.resolve_simple()\n",
    "    else:\n",
    "        graph.resolve_complex()\n",
    "    \n",
    "    for query in queries:\n",
    "        graph.query(query)\n",
    "    \n",
    "except Exception as e:\n",
    "    print(e)"
   ]
  },
  {
   "cell_type": "code",
   "execution_count": 155,
   "metadata": {},
   "outputs": [
    {
     "name": "stdout",
     "output_type": "stream",
     "text": [
      "trigg\n",
      "Node_letter(Token(LETTER, B)) Node_condition(Token(XOR, ^)\n",
      "ici Node_letter(Token(LETTER, B)) {<xs_node.Node_letter object at 0x114494320>: <xs_node.Node_condition object at 0x114494240>} Node_condition(Token(XOR, ^) {<xs_node.Node_letter object at 0x114494320>: <xs_node.Node_letter object at 0x114494f60>}\n",
      "ici Node_letter(Token(LETTER, B)) {<xs_node.Node_letter object at 0x115b5e630>: <xs_node.Node_condition object at 0x115b5e748>} Node_condition(Token(XOR, ^) {<xs_node.Node_letter object at 0x115b5e630>: <xs_node.Node_letter object at 0x115b5ec88>}\n",
      "Node_letter(Token(LETTER, A)) 1\n",
      "Node_condition(Token(XOR, ^) Node_condition(Token(XOR, ^)\n",
      "'Node_condition' object has no attribute 'name'\n"
     ]
    }
   ],
   "source": [
    "rule1 = \"A =>((C ^ D) ^ (E ^ F))\"\n",
    "rule2 = \"G => H ^ I\"\n",
    "rule3 = \"H => C ^ D\"\n",
    "rule4 = \"I => E ^ F\"\n",
    "rule5 = \"B ^ ((C ^ D) ^ (E ^ F)) => Z\"\n",
    "true_facts = \"A\"\n",
    "\n",
    "queries = \"Z\"\n",
    "try:\n",
    "    graph = Graph()\n",
    "    \n",
    "    graph.add_new_AST(Parser(Lexer(rule1)).parse())\n",
    "#     graph.add_new_AST(Parser(Lexer(rule2)).parse())\n",
    "#     graph.add_new_AST(Parser(Lexer(rule3)).parse())\n",
    "#     graph.add_new_AST(Parser(Lexer(rule4)).parse())\n",
    "    graph.add_new_AST(Parser(Lexer(rule5)).parse())\n",
    "#     graph.add_new_AST(Parser(Lexer(rule6)).parse())\n",
    "    \n",
    "    graph.learn_facts(true_facts)\n",
    "    for node in graph.implies_list:\n",
    "        graph.set_facts(node)\n",
    "    \n",
    "    if graph.incoherent == 0:\n",
    "        graph.resolve_simple()\n",
    "    else:\n",
    "        graph.resolve_complex()\n",
    "    \n",
    "    for query in queries:\n",
    "        graph.query(query)\n",
    "    \n",
    "except Exception as e:\n",
    "    print(e)"
   ]
  },
  {
   "cell_type": "code",
   "execution_count": 133,
   "metadata": {},
   "outputs": [
    {
     "name": "stdout",
     "output_type": "stream",
     "text": [
      "Node_letter(Token(LETTER, B))\n",
      "Node_letter(Token(LETTER, C))\n",
      "Node_letter(Token(LETTER, D))\n",
      "Node_letter(Token(LETTER, E))\n",
      "Node_letter(Token(LETTER, F))\n",
      "\n",
      "ici Node_letter(Token(LETTER, A))\n",
      "\n",
      "dict_keys([<xs_node.Node_letter object at 0x1056c1390>])\n"
     ]
    }
   ],
   "source": [
    "for node in graph.implies_list:\n",
    "    print(node)\n",
    "print()\n",
    "for node in graph.implies_list[0].childs_pos:\n",
    "    if node in graph.implies_list[0].xor_dic:\n",
    "        print(\"ici\", node)\n",
    "    else:\n",
    "        print(\"pas ici\", node)\n",
    "print()\n",
    "# print(graph.implies_list[2].childs_pos)\n",
    "print(graph.implies_list[0].xor_dic.keys())"
   ]
  },
  {
   "cell_type": "code",
   "execution_count": 45,
   "metadata": {},
   "outputs": [],
   "source": [
    "import copy"
   ]
  },
  {
   "cell_type": "code",
   "execution_count": 47,
   "metadata": {},
   "outputs": [
    {
     "name": "stdout",
     "output_type": "stream",
     "text": [
      "<__main__.Graph object at 0x1042540f0>\n",
      "[<xs_node.Node_letter object at 0x1041b4e10>, <xs_node.Node_letter object at 0x1041b49e8>, <xs_node.Node_letter object at 0x1041b4c18>]\n",
      "<__main__.Graph object at 0x1041ce390>\n",
      "[<xs_node.Node_letter object at 0x1041ce278>, <xs_node.Node_letter object at 0x1041b4240>, <xs_node.Node_letter object at 0x1041b42b0>]\n"
     ]
    }
   ],
   "source": [
    "print(graph)\n",
    "print(graph.implies_list)\n",
    "\n",
    "t = copy.deepcopy(graph)\n",
    "print(t)\n",
    "print(t.implies_list)"
   ]
  },
  {
   "cell_type": "code",
   "execution_count": 154,
   "metadata": {},
   "outputs": [
    {
     "name": "stdout",
     "output_type": "stream",
     "text": [
      "Node_letter(Token(LETTER, A))\n",
      "Node_letter(Token(LETTER, B)) 0x10571e828 {<xs_node.Node_letter object at 0x10571e2e8>: <xs_node.Node_condition object at 0x1057544e0>}\n",
      "Node_letter(Token(LETTER, C)) 0x105754f60 {<xs_node.Node_letter object at 0x10571e2e8>: <xs_node.Node_condition object at 0x1056ee240>}\n",
      "Node_letter(Token(LETTER, D)) 0x1056ee0f0 {<xs_node.Node_letter object at 0x10571e2e8>: <xs_node.Node_letter object at 0x1056eecf8>}\n",
      "Node_letter(Token(LETTER, E)) 0x1056eecf8 {<xs_node.Node_letter object at 0x10571e2e8>: <xs_node.Node_letter object at 0x1056ee0f0>}\n",
      "Node_letter(Token(LETTER, F)) 0x10573d748 {}\n",
      "Node_letter(Token(LETTER, C))\n"
     ]
    }
   ],
   "source": [
    "t = copy.copy(graph.implies_list[0])\n",
    "\n",
    "rule = next(iter(graph.implies_list[0].xor_dic))\n",
    "print(rule)\n",
    "for x in graph.implies_list:\n",
    "    print(x, hex(id(x)), x.xor_dic)\n",
    "print(graph.implies_list[0].xor_dic[rule].left)"
   ]
  },
  {
   "cell_type": "code",
   "execution_count": 30,
   "metadata": {},
   "outputs": [],
   "source": [
    "def prefix_run(node):\n",
    "    if node: \n",
    "        if type(node).__name__ == \"Node_letter\":\n",
    "            print(node, node.xor_dic)\n",
    "        if type(node).__name__ == \"Node_condition\":\n",
    "            prefix_run(node.left)\n",
    "            print(node, node.xor_dic)\n",
    "            prefix_run(node.right)"
   ]
  },
  {
   "cell_type": "code",
   "execution_count": 33,
   "metadata": {},
   "outputs": [
    {
     "name": "stdout",
     "output_type": "stream",
     "text": [
      "Node_letter(Token(LETTER, B)) {<xs_node.Node_letter object at 0x10c831c50>: <xs_node.Node_condition object at 0x10c8b15c0>}\n",
      "Node_condition(Token(XOR, ^) {}\n",
      "Node_letter(Token(LETTER, C)) {<xs_node.Node_letter object at 0x10c831c50>: <xs_node.Node_letter object at 0x10c87da90>}\n",
      "Node_condition(Token(XOR, ^) {<xs_node.Node_letter object at 0x10c831c50>: <xs_node.Node_condition object at 0x10c802e80>}\n",
      "Node_letter(Token(LETTER, D)) {<xs_node.Node_letter object at 0x10c831c50>: <xs_node.Node_letter object at 0x10c8b19e8>}\n",
      "Node_condition(Token(XOR, ^) {<xs_node.Node_letter object at 0x10c831c50>: <xs_node.Node_letter object at 0x10c7dd828>}\n",
      "Node_letter(Token(LETTER, E)) {<xs_node.Node_letter object at 0x10c831c50>: <xs_node.Node_letter object at 0x10c802c18>}\n",
      "Node_condition(Token(XOR, ^) {<xs_node.Node_letter object at 0x10c831c50>: <xs_node.Node_condition object at 0x10c87d630>}\n",
      "Node_letter(Token(LETTER, F)) {<xs_node.Node_letter object at 0x10c831c50>: <xs_node.Node_letter object at 0x10c829cc0>}\n",
      "\n",
      "Node_letter(Token(LETTER, Z)) {}\n",
      "\n"
     ]
    }
   ],
   "source": [
    "for node in graph.ast_list:\n",
    "    prefix_run(node)\n",
    "    print()"
   ]
  },
  {
   "cell_type": "code",
   "execution_count": 35,
   "metadata": {},
   "outputs": [
    {
     "data": {
      "text/plain": [
       "<function dict.keys>"
      ]
     },
     "execution_count": 35,
     "metadata": {},
     "output_type": "execute_result"
    }
   ],
   "source": []
  },
  {
   "cell_type": "code",
   "execution_count": 136,
   "metadata": {},
   "outputs": [
    {
     "data": {
      "text/plain": [
       "<__main__.Graph at 0x105737048>"
      ]
     },
     "execution_count": 136,
     "metadata": {},
     "output_type": "execute_result"
    }
   ],
   "source": [
    "a = [1, 2]\n",
    "t = {}\n",
    "t[a[0]] = 10\n",
    "t[a[1]] = 15\n",
    "graph"
   ]
  },
  {
   "cell_type": "code",
   "execution_count": 137,
   "metadata": {},
   "outputs": [
    {
     "name": "stdout",
     "output_type": "stream",
     "text": [
      "{1: 10, 2: 15}\n",
      "[1, 2]\n"
     ]
    }
   ],
   "source": [
    "print(t)\n",
    "print(a)"
   ]
  },
  {
   "cell_type": "code",
   "execution_count": 317,
   "metadata": {},
   "outputs": [
    {
     "name": "stdout",
     "output_type": "stream",
     "text": [
      "1 10\n",
      "2 15\n"
     ]
    }
   ],
   "source": [
    "for k, v in t.items():\n",
    "    print(k, v)"
   ]
  },
  {
   "cell_type": "code",
   "execution_count": 145,
   "metadata": {},
   "outputs": [
    {
     "data": {
      "text/plain": [
       "1"
      ]
     },
     "execution_count": 145,
     "metadata": {},
     "output_type": "execute_result"
    }
   ],
   "source": [
    "next(iter(t))"
   ]
  },
  {
   "cell_type": "code",
   "execution_count": 319,
   "metadata": {},
   "outputs": [],
   "source": [
    "tt = None"
   ]
  },
  {
   "cell_type": "code",
   "execution_count": 321,
   "metadata": {},
   "outputs": [
    {
     "name": "stdout",
     "output_type": "stream",
     "text": [
      "ici\n"
     ]
    }
   ],
   "source": [
    "if tt not in t:\n",
    "    print('ici')"
   ]
  },
  {
   "cell_type": "code",
   "execution_count": null,
   "metadata": {},
   "outputs": [],
   "source": []
  }
 ],
 "metadata": {
  "kernelspec": {
   "display_name": "Python 3",
   "language": "python",
   "name": "python3"
  },
  "language_info": {
   "codemirror_mode": {
    "name": "ipython",
    "version": 3
   },
   "file_extension": ".py",
   "mimetype": "text/x-python",
   "name": "python",
   "nbconvert_exporter": "python",
   "pygments_lexer": "ipython3",
   "version": "3.7.1"
  }
 },
 "nbformat": 4,
 "nbformat_minor": 2
}
